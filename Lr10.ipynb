{
  "nbformat": 4,
  "nbformat_minor": 0,
  "metadata": {
    "colab": {
      "provenance": [],
      "authorship_tag": "ABX9TyOp6GbiFPT8RFUx8Mi5xI+L",
      "include_colab_link": true
    },
    "kernelspec": {
      "name": "python3",
      "display_name": "Python 3"
    },
    "language_info": {
      "name": "python"
    }
  },
  "cells": [
    {
      "cell_type": "markdown",
      "metadata": {
        "id": "view-in-github",
        "colab_type": "text"
      },
      "source": [
        "<a href=\"https://colab.research.google.com/github/OmarovaJuma/AI.MO/blob/main/Lr10.ipynb\" target=\"_parent\"><img src=\"https://colab.research.google.com/assets/colab-badge.svg\" alt=\"Open In Colab\"/></a>"
      ]
    },
    {
      "cell_type": "markdown",
      "source": [
        "# **Выполнила работу Омарова Джума группа ПИН-б-о-22-1**\n",
        "\n",
        "# **Лабораторная работа 10. Полиномиальная регрессия**\n"
      ],
      "metadata": {
        "id": "3-iItoikNv2M"
      }
    },
    {
      "cell_type": "markdown",
      "source": [
        "# **Первичный анализ**\n",
        "\n",
        "Описание данных:\n",
        "\n",
        "credit.policy: Этот признак имеет значение 1, если клиент соответствует кредитным критериям LendingClub.com, и 0 в противном случае.\n",
        "\n",
        "purpose: Это цель кредита, принимающая значения \"credit_card\" (кредитная карта), \"debt_consolidation\" (консолидация долга), \"educational\" (образовательный), \"major_purchase\" (крупная покупка), \"small_business\" (малый бизнес) и \"all_other\" (все прочее).\n",
        "\n",
        "int.rate: Это процентная ставка по кредиту в виде десятичной дроби.\n",
        "installment: Ежемесячные платежи, которые должен выплачивать заемщик, если кредит одобрен.\n",
        "\n",
        "log.annual.inc: Натуральный логарифм самозаявленного годового дохода заемщика.\n",
        "\n",
        "dti: Долг к годовому доходу, представленный как отношение.\n",
        "fico: Кредитный рейтинг FICO заемщика.\n",
        "\n",
        "days.with.cr.line: Количество дней, в течение которых у заемщика была кредитная линия.\n",
        "\n",
        "revol.bal: Оборотный баланс заемщика (сумма, не оплаченная к концу кредитного цикла по кредитной карте).\n",
        "\n",
        "revol.util: Коэффициент использования оборотной линии заемщика (отношение использованной суммы к общей доступной сумме кредита).\n",
        "\n",
        "inq.last.6mths: Количество запросов заемщика кредиторами за последние 6 месяцев.\n",
        "\n",
        "delinq.2yrs: Количество раз, когда заемщик был задолженным на 30+ дней за последние 2 года.\n",
        "\n",
        "pub.rec: Количество неблагоприятных публичных записей заемщика (банкротство, налоговые обременения или судебные постановления).\n",
        "\n",
        "not.fully.paid: Целевая переменная, принимающая значение 1, если заемщик не полностью погасил кредит, и 0 в противном случае.\n",
        "\n",
        "Характеристики данных:\n",
        "\n",
        "Количество элементов в наборе данных: 9578\n",
        "\n",
        "Количество признаков: 14\n",
        "\n",
        "Количество пропущенных значений: Отсутствуют\n",
        "\n",
        "Графическое представление данных:\n",
        "\n",
        "Для анализа распределения признаков, их взаимосвязей и выбросов или аномалий можно построить различные виды графиков, такие как гистограммы, диаграммы рассеяния и ящики с усами."
      ],
      "metadata": {
        "id": "JVE4q33aOEHa"
      }
    },
    {
      "cell_type": "markdown",
      "source": [
        "Статистические показатели:"
      ],
      "metadata": {
        "id": "umnoTwUzPWpZ"
      }
    },
    {
      "cell_type": "code",
      "source": [
        "# Рассчитать статистические показатели\n",
        "stats = dataset.describe()\n",
        "\n",
        "# Вывести статистические показатели\n",
        "print(stats)"
      ],
      "metadata": {
        "colab": {
          "base_uri": "https://localhost:8080/"
        },
        "id": "575yrrg3PUVy",
        "outputId": "5f73e155-cdc0-45bc-d617-e1a197cd7404"
      },
      "execution_count": null,
      "outputs": [
        {
          "output_type": "stream",
          "name": "stdout",
          "text": [
            "       credit.policy     int.rate  installment  log.annual.inc          dti  \\\n",
            "count    9578.000000  9578.000000  9578.000000     9578.000000  9578.000000   \n",
            "mean        0.804970     0.122640   319.089413       10.932117    12.606679   \n",
            "std         0.396245     0.026847   207.071301        0.614813     6.883970   \n",
            "min         0.000000     0.060000    15.670000        7.547502     0.000000   \n",
            "25%         1.000000     0.103900   163.770000       10.558414     7.212500   \n",
            "50%         1.000000     0.122100   268.950000       10.928884    12.665000   \n",
            "75%         1.000000     0.140700   432.762500       11.291293    17.950000   \n",
            "max         1.000000     0.216400   940.140000       14.528354    29.960000   \n",
            "\n",
            "              fico  days.with.cr.line     revol.bal   revol.util  \\\n",
            "count  9578.000000        9578.000000  9.578000e+03  9578.000000   \n",
            "mean    710.846314        4560.767197  1.691396e+04    46.799236   \n",
            "std      37.970537        2496.930377  3.375619e+04    29.014417   \n",
            "min     612.000000         178.958333  0.000000e+00     0.000000   \n",
            "25%     682.000000        2820.000000  3.187000e+03    22.600000   \n",
            "50%     707.000000        4139.958333  8.596000e+03    46.300000   \n",
            "75%     737.000000        5730.000000  1.824950e+04    70.900000   \n",
            "max     827.000000       17639.958330  1.207359e+06   119.000000   \n",
            "\n",
            "       inq.last.6mths  delinq.2yrs      pub.rec  not.fully.paid  \n",
            "count     9578.000000  9578.000000  9578.000000     9578.000000  \n",
            "mean         1.577469     0.163708     0.062122        0.160054  \n",
            "std          2.200245     0.546215     0.262126        0.366676  \n",
            "min          0.000000     0.000000     0.000000        0.000000  \n",
            "25%          0.000000     0.000000     0.000000        0.000000  \n",
            "50%          1.000000     0.000000     0.000000        0.000000  \n",
            "75%          2.000000     0.000000     0.000000        0.000000  \n",
            "max         33.000000    13.000000     5.000000        1.000000  \n"
          ]
        }
      ]
    },
    {
      "cell_type": "markdown",
      "source": [
        "Импортируются необходимые библиотеки:\n",
        "\n",
        "numpy для работы с массивами и матрицами чисел\n",
        "\n",
        "pandas для работы с данными в виде таблиц\n",
        "\n",
        "из sklearn.model_selection импортируется функция train_test_split для разделения данных на обучающий и тестовый наборы\n",
        "\n",
        "из sklearn.preprocessing импортируются классы LabelEncoder, OneHotEncoder и StandardScaler для предобработки данных\n",
        "\n",
        "из sklearn.compose импортируется класс ColumnTransformer для комбинирования преобразований различных признаков\n",
        "\n",
        "из sklearn.linear_model импортируется класс LinearRegression для построения линейной регрессии"
      ],
      "metadata": {
        "id": "ielEmK_KP-BE"
      }
    },
    {
      "cell_type": "code",
      "execution_count": null,
      "metadata": {
        "id": "inhi0w8atGE3"
      },
      "outputs": [],
      "source": [
        "import numpy as np\n",
        "import pandas as pd\n",
        "import matplotlib.pyplot as plt\n",
        "from sklearn.model_selection import train_test_split\n",
        "from sklearn.preprocessing import LabelEncoder, OneHotEncoder, StandardScaler\n",
        "from sklearn.compose import ColumnTransformer\n",
        "from sklearn.linear_model import LinearRegression\n",
        "from sklearn.preprocessing import PolynomialFeatures\n",
        "from sklearn.metrics import mean_squared_error"
      ]
    },
    {
      "cell_type": "markdown",
      "source": [
        "Загрузка и предобработка данных из файла 'loan_data.csv' с использованием функционала библиотек numpy и pandas."
      ],
      "metadata": {
        "id": "T4DxL94BQLxy"
      }
    },
    {
      "cell_type": "code",
      "source": [
        "dataset = pd.read_csv('/content/dataset/loan_data.csv')\n",
        "dataset"
      ],
      "metadata": {
        "colab": {
          "base_uri": "https://localhost:8080/",
          "height": 444
        },
        "id": "xC_WBLD0tuhf",
        "outputId": "50fb611d-d7f8-43ce-d15e-b3a410e9a646"
      },
      "execution_count": null,
      "outputs": [
        {
          "output_type": "execute_result",
          "data": {
            "text/plain": [
              "      credit.policy             purpose  int.rate  installment  \\\n",
              "0                 1  debt_consolidation    0.1189       829.10   \n",
              "1                 1         credit_card    0.1071       228.22   \n",
              "2                 1  debt_consolidation    0.1357       366.86   \n",
              "3                 1  debt_consolidation    0.1008       162.34   \n",
              "4                 1         credit_card    0.1426       102.92   \n",
              "...             ...                 ...       ...          ...   \n",
              "9573              0           all_other    0.1461       344.76   \n",
              "9574              0           all_other    0.1253       257.70   \n",
              "9575              0  debt_consolidation    0.1071        97.81   \n",
              "9576              0    home_improvement    0.1600       351.58   \n",
              "9577              0  debt_consolidation    0.1392       853.43   \n",
              "\n",
              "      log.annual.inc    dti  fico  days.with.cr.line  revol.bal  revol.util  \\\n",
              "0          11.350407  19.48   737        5639.958333      28854        52.1   \n",
              "1          11.082143  14.29   707        2760.000000      33623        76.7   \n",
              "2          10.373491  11.63   682        4710.000000       3511        25.6   \n",
              "3          11.350407   8.10   712        2699.958333      33667        73.2   \n",
              "4          11.299732  14.97   667        4066.000000       4740        39.5   \n",
              "...              ...    ...   ...                ...        ...         ...   \n",
              "9573       12.180755  10.39   672       10474.000000     215372        82.1   \n",
              "9574       11.141862   0.21   722        4380.000000        184         1.1   \n",
              "9575       10.596635  13.09   687        3450.041667      10036        82.9   \n",
              "9576       10.819778  19.18   692        1800.000000          0         3.2   \n",
              "9577       11.264464  16.28   732        4740.000000      37879        57.0   \n",
              "\n",
              "      inq.last.6mths  delinq.2yrs  pub.rec  not.fully.paid  \n",
              "0                  0            0        0               0  \n",
              "1                  0            0        0               0  \n",
              "2                  1            0        0               0  \n",
              "3                  1            0        0               0  \n",
              "4                  0            1        0               0  \n",
              "...              ...          ...      ...             ...  \n",
              "9573               2            0        0               1  \n",
              "9574               5            0        0               1  \n",
              "9575               8            0        0               1  \n",
              "9576               5            0        0               1  \n",
              "9577               6            0        0               1  \n",
              "\n",
              "[9578 rows x 14 columns]"
            ],
            "text/html": [
              "\n",
              "  <div id=\"df-1d7fda84-bbdb-43cf-afb7-deae105ac4b0\" class=\"colab-df-container\">\n",
              "    <div>\n",
              "<style scoped>\n",
              "    .dataframe tbody tr th:only-of-type {\n",
              "        vertical-align: middle;\n",
              "    }\n",
              "\n",
              "    .dataframe tbody tr th {\n",
              "        vertical-align: top;\n",
              "    }\n",
              "\n",
              "    .dataframe thead th {\n",
              "        text-align: right;\n",
              "    }\n",
              "</style>\n",
              "<table border=\"1\" class=\"dataframe\">\n",
              "  <thead>\n",
              "    <tr style=\"text-align: right;\">\n",
              "      <th></th>\n",
              "      <th>credit.policy</th>\n",
              "      <th>purpose</th>\n",
              "      <th>int.rate</th>\n",
              "      <th>installment</th>\n",
              "      <th>log.annual.inc</th>\n",
              "      <th>dti</th>\n",
              "      <th>fico</th>\n",
              "      <th>days.with.cr.line</th>\n",
              "      <th>revol.bal</th>\n",
              "      <th>revol.util</th>\n",
              "      <th>inq.last.6mths</th>\n",
              "      <th>delinq.2yrs</th>\n",
              "      <th>pub.rec</th>\n",
              "      <th>not.fully.paid</th>\n",
              "    </tr>\n",
              "  </thead>\n",
              "  <tbody>\n",
              "    <tr>\n",
              "      <th>0</th>\n",
              "      <td>1</td>\n",
              "      <td>debt_consolidation</td>\n",
              "      <td>0.1189</td>\n",
              "      <td>829.10</td>\n",
              "      <td>11.350407</td>\n",
              "      <td>19.48</td>\n",
              "      <td>737</td>\n",
              "      <td>5639.958333</td>\n",
              "      <td>28854</td>\n",
              "      <td>52.1</td>\n",
              "      <td>0</td>\n",
              "      <td>0</td>\n",
              "      <td>0</td>\n",
              "      <td>0</td>\n",
              "    </tr>\n",
              "    <tr>\n",
              "      <th>1</th>\n",
              "      <td>1</td>\n",
              "      <td>credit_card</td>\n",
              "      <td>0.1071</td>\n",
              "      <td>228.22</td>\n",
              "      <td>11.082143</td>\n",
              "      <td>14.29</td>\n",
              "      <td>707</td>\n",
              "      <td>2760.000000</td>\n",
              "      <td>33623</td>\n",
              "      <td>76.7</td>\n",
              "      <td>0</td>\n",
              "      <td>0</td>\n",
              "      <td>0</td>\n",
              "      <td>0</td>\n",
              "    </tr>\n",
              "    <tr>\n",
              "      <th>2</th>\n",
              "      <td>1</td>\n",
              "      <td>debt_consolidation</td>\n",
              "      <td>0.1357</td>\n",
              "      <td>366.86</td>\n",
              "      <td>10.373491</td>\n",
              "      <td>11.63</td>\n",
              "      <td>682</td>\n",
              "      <td>4710.000000</td>\n",
              "      <td>3511</td>\n",
              "      <td>25.6</td>\n",
              "      <td>1</td>\n",
              "      <td>0</td>\n",
              "      <td>0</td>\n",
              "      <td>0</td>\n",
              "    </tr>\n",
              "    <tr>\n",
              "      <th>3</th>\n",
              "      <td>1</td>\n",
              "      <td>debt_consolidation</td>\n",
              "      <td>0.1008</td>\n",
              "      <td>162.34</td>\n",
              "      <td>11.350407</td>\n",
              "      <td>8.10</td>\n",
              "      <td>712</td>\n",
              "      <td>2699.958333</td>\n",
              "      <td>33667</td>\n",
              "      <td>73.2</td>\n",
              "      <td>1</td>\n",
              "      <td>0</td>\n",
              "      <td>0</td>\n",
              "      <td>0</td>\n",
              "    </tr>\n",
              "    <tr>\n",
              "      <th>4</th>\n",
              "      <td>1</td>\n",
              "      <td>credit_card</td>\n",
              "      <td>0.1426</td>\n",
              "      <td>102.92</td>\n",
              "      <td>11.299732</td>\n",
              "      <td>14.97</td>\n",
              "      <td>667</td>\n",
              "      <td>4066.000000</td>\n",
              "      <td>4740</td>\n",
              "      <td>39.5</td>\n",
              "      <td>0</td>\n",
              "      <td>1</td>\n",
              "      <td>0</td>\n",
              "      <td>0</td>\n",
              "    </tr>\n",
              "    <tr>\n",
              "      <th>...</th>\n",
              "      <td>...</td>\n",
              "      <td>...</td>\n",
              "      <td>...</td>\n",
              "      <td>...</td>\n",
              "      <td>...</td>\n",
              "      <td>...</td>\n",
              "      <td>...</td>\n",
              "      <td>...</td>\n",
              "      <td>...</td>\n",
              "      <td>...</td>\n",
              "      <td>...</td>\n",
              "      <td>...</td>\n",
              "      <td>...</td>\n",
              "      <td>...</td>\n",
              "    </tr>\n",
              "    <tr>\n",
              "      <th>9573</th>\n",
              "      <td>0</td>\n",
              "      <td>all_other</td>\n",
              "      <td>0.1461</td>\n",
              "      <td>344.76</td>\n",
              "      <td>12.180755</td>\n",
              "      <td>10.39</td>\n",
              "      <td>672</td>\n",
              "      <td>10474.000000</td>\n",
              "      <td>215372</td>\n",
              "      <td>82.1</td>\n",
              "      <td>2</td>\n",
              "      <td>0</td>\n",
              "      <td>0</td>\n",
              "      <td>1</td>\n",
              "    </tr>\n",
              "    <tr>\n",
              "      <th>9574</th>\n",
              "      <td>0</td>\n",
              "      <td>all_other</td>\n",
              "      <td>0.1253</td>\n",
              "      <td>257.70</td>\n",
              "      <td>11.141862</td>\n",
              "      <td>0.21</td>\n",
              "      <td>722</td>\n",
              "      <td>4380.000000</td>\n",
              "      <td>184</td>\n",
              "      <td>1.1</td>\n",
              "      <td>5</td>\n",
              "      <td>0</td>\n",
              "      <td>0</td>\n",
              "      <td>1</td>\n",
              "    </tr>\n",
              "    <tr>\n",
              "      <th>9575</th>\n",
              "      <td>0</td>\n",
              "      <td>debt_consolidation</td>\n",
              "      <td>0.1071</td>\n",
              "      <td>97.81</td>\n",
              "      <td>10.596635</td>\n",
              "      <td>13.09</td>\n",
              "      <td>687</td>\n",
              "      <td>3450.041667</td>\n",
              "      <td>10036</td>\n",
              "      <td>82.9</td>\n",
              "      <td>8</td>\n",
              "      <td>0</td>\n",
              "      <td>0</td>\n",
              "      <td>1</td>\n",
              "    </tr>\n",
              "    <tr>\n",
              "      <th>9576</th>\n",
              "      <td>0</td>\n",
              "      <td>home_improvement</td>\n",
              "      <td>0.1600</td>\n",
              "      <td>351.58</td>\n",
              "      <td>10.819778</td>\n",
              "      <td>19.18</td>\n",
              "      <td>692</td>\n",
              "      <td>1800.000000</td>\n",
              "      <td>0</td>\n",
              "      <td>3.2</td>\n",
              "      <td>5</td>\n",
              "      <td>0</td>\n",
              "      <td>0</td>\n",
              "      <td>1</td>\n",
              "    </tr>\n",
              "    <tr>\n",
              "      <th>9577</th>\n",
              "      <td>0</td>\n",
              "      <td>debt_consolidation</td>\n",
              "      <td>0.1392</td>\n",
              "      <td>853.43</td>\n",
              "      <td>11.264464</td>\n",
              "      <td>16.28</td>\n",
              "      <td>732</td>\n",
              "      <td>4740.000000</td>\n",
              "      <td>37879</td>\n",
              "      <td>57.0</td>\n",
              "      <td>6</td>\n",
              "      <td>0</td>\n",
              "      <td>0</td>\n",
              "      <td>1</td>\n",
              "    </tr>\n",
              "  </tbody>\n",
              "</table>\n",
              "<p>9578 rows × 14 columns</p>\n",
              "</div>\n",
              "    <div class=\"colab-df-buttons\">\n",
              "\n",
              "  <div class=\"colab-df-container\">\n",
              "    <button class=\"colab-df-convert\" onclick=\"convertToInteractive('df-1d7fda84-bbdb-43cf-afb7-deae105ac4b0')\"\n",
              "            title=\"Convert this dataframe to an interactive table.\"\n",
              "            style=\"display:none;\">\n",
              "\n",
              "  <svg xmlns=\"http://www.w3.org/2000/svg\" height=\"24px\" viewBox=\"0 -960 960 960\">\n",
              "    <path d=\"M120-120v-720h720v720H120Zm60-500h600v-160H180v160Zm220 220h160v-160H400v160Zm0 220h160v-160H400v160ZM180-400h160v-160H180v160Zm440 0h160v-160H620v160ZM180-180h160v-160H180v160Zm440 0h160v-160H620v160Z\"/>\n",
              "  </svg>\n",
              "    </button>\n",
              "\n",
              "  <style>\n",
              "    .colab-df-container {\n",
              "      display:flex;\n",
              "      gap: 12px;\n",
              "    }\n",
              "\n",
              "    .colab-df-convert {\n",
              "      background-color: #E8F0FE;\n",
              "      border: none;\n",
              "      border-radius: 50%;\n",
              "      cursor: pointer;\n",
              "      display: none;\n",
              "      fill: #1967D2;\n",
              "      height: 32px;\n",
              "      padding: 0 0 0 0;\n",
              "      width: 32px;\n",
              "    }\n",
              "\n",
              "    .colab-df-convert:hover {\n",
              "      background-color: #E2EBFA;\n",
              "      box-shadow: 0px 1px 2px rgba(60, 64, 67, 0.3), 0px 1px 3px 1px rgba(60, 64, 67, 0.15);\n",
              "      fill: #174EA6;\n",
              "    }\n",
              "\n",
              "    .colab-df-buttons div {\n",
              "      margin-bottom: 4px;\n",
              "    }\n",
              "\n",
              "    [theme=dark] .colab-df-convert {\n",
              "      background-color: #3B4455;\n",
              "      fill: #D2E3FC;\n",
              "    }\n",
              "\n",
              "    [theme=dark] .colab-df-convert:hover {\n",
              "      background-color: #434B5C;\n",
              "      box-shadow: 0px 1px 3px 1px rgba(0, 0, 0, 0.15);\n",
              "      filter: drop-shadow(0px 1px 2px rgba(0, 0, 0, 0.3));\n",
              "      fill: #FFFFFF;\n",
              "    }\n",
              "  </style>\n",
              "\n",
              "    <script>\n",
              "      const buttonEl =\n",
              "        document.querySelector('#df-1d7fda84-bbdb-43cf-afb7-deae105ac4b0 button.colab-df-convert');\n",
              "      buttonEl.style.display =\n",
              "        google.colab.kernel.accessAllowed ? 'block' : 'none';\n",
              "\n",
              "      async function convertToInteractive(key) {\n",
              "        const element = document.querySelector('#df-1d7fda84-bbdb-43cf-afb7-deae105ac4b0');\n",
              "        const dataTable =\n",
              "          await google.colab.kernel.invokeFunction('convertToInteractive',\n",
              "                                                    [key], {});\n",
              "        if (!dataTable) return;\n",
              "\n",
              "        const docLinkHtml = 'Like what you see? Visit the ' +\n",
              "          '<a target=\"_blank\" href=https://colab.research.google.com/notebooks/data_table.ipynb>data table notebook</a>'\n",
              "          + ' to learn more about interactive tables.';\n",
              "        element.innerHTML = '';\n",
              "        dataTable['output_type'] = 'display_data';\n",
              "        await google.colab.output.renderOutput(dataTable, element);\n",
              "        const docLink = document.createElement('div');\n",
              "        docLink.innerHTML = docLinkHtml;\n",
              "        element.appendChild(docLink);\n",
              "      }\n",
              "    </script>\n",
              "  </div>\n",
              "\n",
              "\n",
              "<div id=\"df-ffb5f473-85f2-4d9c-99d0-5ba03bd391ea\">\n",
              "  <button class=\"colab-df-quickchart\" onclick=\"quickchart('df-ffb5f473-85f2-4d9c-99d0-5ba03bd391ea')\"\n",
              "            title=\"Suggest charts\"\n",
              "            style=\"display:none;\">\n",
              "\n",
              "<svg xmlns=\"http://www.w3.org/2000/svg\" height=\"24px\"viewBox=\"0 0 24 24\"\n",
              "     width=\"24px\">\n",
              "    <g>\n",
              "        <path d=\"M19 3H5c-1.1 0-2 .9-2 2v14c0 1.1.9 2 2 2h14c1.1 0 2-.9 2-2V5c0-1.1-.9-2-2-2zM9 17H7v-7h2v7zm4 0h-2V7h2v10zm4 0h-2v-4h2v4z\"/>\n",
              "    </g>\n",
              "</svg>\n",
              "  </button>\n",
              "\n",
              "<style>\n",
              "  .colab-df-quickchart {\n",
              "      --bg-color: #E8F0FE;\n",
              "      --fill-color: #1967D2;\n",
              "      --hover-bg-color: #E2EBFA;\n",
              "      --hover-fill-color: #174EA6;\n",
              "      --disabled-fill-color: #AAA;\n",
              "      --disabled-bg-color: #DDD;\n",
              "  }\n",
              "\n",
              "  [theme=dark] .colab-df-quickchart {\n",
              "      --bg-color: #3B4455;\n",
              "      --fill-color: #D2E3FC;\n",
              "      --hover-bg-color: #434B5C;\n",
              "      --hover-fill-color: #FFFFFF;\n",
              "      --disabled-bg-color: #3B4455;\n",
              "      --disabled-fill-color: #666;\n",
              "  }\n",
              "\n",
              "  .colab-df-quickchart {\n",
              "    background-color: var(--bg-color);\n",
              "    border: none;\n",
              "    border-radius: 50%;\n",
              "    cursor: pointer;\n",
              "    display: none;\n",
              "    fill: var(--fill-color);\n",
              "    height: 32px;\n",
              "    padding: 0;\n",
              "    width: 32px;\n",
              "  }\n",
              "\n",
              "  .colab-df-quickchart:hover {\n",
              "    background-color: var(--hover-bg-color);\n",
              "    box-shadow: 0 1px 2px rgba(60, 64, 67, 0.3), 0 1px 3px 1px rgba(60, 64, 67, 0.15);\n",
              "    fill: var(--button-hover-fill-color);\n",
              "  }\n",
              "\n",
              "  .colab-df-quickchart-complete:disabled,\n",
              "  .colab-df-quickchart-complete:disabled:hover {\n",
              "    background-color: var(--disabled-bg-color);\n",
              "    fill: var(--disabled-fill-color);\n",
              "    box-shadow: none;\n",
              "  }\n",
              "\n",
              "  .colab-df-spinner {\n",
              "    border: 2px solid var(--fill-color);\n",
              "    border-color: transparent;\n",
              "    border-bottom-color: var(--fill-color);\n",
              "    animation:\n",
              "      spin 1s steps(1) infinite;\n",
              "  }\n",
              "\n",
              "  @keyframes spin {\n",
              "    0% {\n",
              "      border-color: transparent;\n",
              "      border-bottom-color: var(--fill-color);\n",
              "      border-left-color: var(--fill-color);\n",
              "    }\n",
              "    20% {\n",
              "      border-color: transparent;\n",
              "      border-left-color: var(--fill-color);\n",
              "      border-top-color: var(--fill-color);\n",
              "    }\n",
              "    30% {\n",
              "      border-color: transparent;\n",
              "      border-left-color: var(--fill-color);\n",
              "      border-top-color: var(--fill-color);\n",
              "      border-right-color: var(--fill-color);\n",
              "    }\n",
              "    40% {\n",
              "      border-color: transparent;\n",
              "      border-right-color: var(--fill-color);\n",
              "      border-top-color: var(--fill-color);\n",
              "    }\n",
              "    60% {\n",
              "      border-color: transparent;\n",
              "      border-right-color: var(--fill-color);\n",
              "    }\n",
              "    80% {\n",
              "      border-color: transparent;\n",
              "      border-right-color: var(--fill-color);\n",
              "      border-bottom-color: var(--fill-color);\n",
              "    }\n",
              "    90% {\n",
              "      border-color: transparent;\n",
              "      border-bottom-color: var(--fill-color);\n",
              "    }\n",
              "  }\n",
              "</style>\n",
              "\n",
              "  <script>\n",
              "    async function quickchart(key) {\n",
              "      const quickchartButtonEl =\n",
              "        document.querySelector('#' + key + ' button');\n",
              "      quickchartButtonEl.disabled = true;  // To prevent multiple clicks.\n",
              "      quickchartButtonEl.classList.add('colab-df-spinner');\n",
              "      try {\n",
              "        const charts = await google.colab.kernel.invokeFunction(\n",
              "            'suggestCharts', [key], {});\n",
              "      } catch (error) {\n",
              "        console.error('Error during call to suggestCharts:', error);\n",
              "      }\n",
              "      quickchartButtonEl.classList.remove('colab-df-spinner');\n",
              "      quickchartButtonEl.classList.add('colab-df-quickchart-complete');\n",
              "    }\n",
              "    (() => {\n",
              "      let quickchartButtonEl =\n",
              "        document.querySelector('#df-ffb5f473-85f2-4d9c-99d0-5ba03bd391ea button');\n",
              "      quickchartButtonEl.style.display =\n",
              "        google.colab.kernel.accessAllowed ? 'block' : 'none';\n",
              "    })();\n",
              "  </script>\n",
              "</div>\n",
              "    </div>\n",
              "  </div>\n"
            ],
            "application/vnd.google.colaboratory.intrinsic+json": {
              "type": "dataframe",
              "variable_name": "dataset",
              "summary": "{\n  \"name\": \"dataset\",\n  \"rows\": 9578,\n  \"fields\": [\n    {\n      \"column\": \"credit.policy\",\n      \"properties\": {\n        \"dtype\": \"number\",\n        \"std\": 0,\n        \"min\": 0,\n        \"max\": 1,\n        \"num_unique_values\": 2,\n        \"samples\": [\n          0,\n          1\n        ],\n        \"semantic_type\": \"\",\n        \"description\": \"\"\n      }\n    },\n    {\n      \"column\": \"purpose\",\n      \"properties\": {\n        \"dtype\": \"category\",\n        \"num_unique_values\": 7,\n        \"samples\": [\n          \"debt_consolidation\",\n          \"credit_card\"\n        ],\n        \"semantic_type\": \"\",\n        \"description\": \"\"\n      }\n    },\n    {\n      \"column\": \"int.rate\",\n      \"properties\": {\n        \"dtype\": \"number\",\n        \"std\": 0.026846987213382245,\n        \"min\": 0.06,\n        \"max\": 0.2164,\n        \"num_unique_values\": 249,\n        \"samples\": [\n          0.1367,\n          0.1496\n        ],\n        \"semantic_type\": \"\",\n        \"description\": \"\"\n      }\n    },\n    {\n      \"column\": \"installment\",\n      \"properties\": {\n        \"dtype\": \"number\",\n        \"std\": 207.07130149985824,\n        \"min\": 15.67,\n        \"max\": 940.14,\n        \"num_unique_values\": 4788,\n        \"samples\": [\n          326.02,\n          182.39\n        ],\n        \"semantic_type\": \"\",\n        \"description\": \"\"\n      }\n    },\n    {\n      \"column\": \"log.annual.inc\",\n      \"properties\": {\n        \"dtype\": \"number\",\n        \"std\": 0.6148127513545925,\n        \"min\": 7.547501683,\n        \"max\": 14.52835448,\n        \"num_unique_values\": 1987,\n        \"samples\": [\n          10.22557105,\n          11.19908503\n        ],\n        \"semantic_type\": \"\",\n        \"description\": \"\"\n      }\n    },\n    {\n      \"column\": \"dti\",\n      \"properties\": {\n        \"dtype\": \"number\",\n        \"std\": 6.883969540539616,\n        \"min\": 0.0,\n        \"max\": 29.96,\n        \"num_unique_values\": 2529,\n        \"samples\": [\n          5.86,\n          21.4\n        ],\n        \"semantic_type\": \"\",\n        \"description\": \"\"\n      }\n    },\n    {\n      \"column\": \"fico\",\n      \"properties\": {\n        \"dtype\": \"number\",\n        \"std\": 37,\n        \"min\": 612,\n        \"max\": 827,\n        \"num_unique_values\": 44,\n        \"samples\": [\n          647,\n          717\n        ],\n        \"semantic_type\": \"\",\n        \"description\": \"\"\n      }\n    },\n    {\n      \"column\": \"days.with.cr.line\",\n      \"properties\": {\n        \"dtype\": \"number\",\n        \"std\": 2496.930376811348,\n        \"min\": 178.9583333,\n        \"max\": 17639.95833,\n        \"num_unique_values\": 2687,\n        \"samples\": [\n          2432.0,\n          8669.958333\n        ],\n        \"semantic_type\": \"\",\n        \"description\": \"\"\n      }\n    },\n    {\n      \"column\": \"revol.bal\",\n      \"properties\": {\n        \"dtype\": \"number\",\n        \"std\": 33756,\n        \"min\": 0,\n        \"max\": 1207359,\n        \"num_unique_values\": 7869,\n        \"samples\": [\n          11196,\n          462\n        ],\n        \"semantic_type\": \"\",\n        \"description\": \"\"\n      }\n    },\n    {\n      \"column\": \"revol.util\",\n      \"properties\": {\n        \"dtype\": \"number\",\n        \"std\": 29.014416965641065,\n        \"min\": 0.0,\n        \"max\": 119.0,\n        \"num_unique_values\": 1035,\n        \"samples\": [\n          28.6,\n          1.7\n        ],\n        \"semantic_type\": \"\",\n        \"description\": \"\"\n      }\n    },\n    {\n      \"column\": \"inq.last.6mths\",\n      \"properties\": {\n        \"dtype\": \"number\",\n        \"std\": 2,\n        \"min\": 0,\n        \"max\": 33,\n        \"num_unique_values\": 28,\n        \"samples\": [\n          33,\n          24\n        ],\n        \"semantic_type\": \"\",\n        \"description\": \"\"\n      }\n    },\n    {\n      \"column\": \"delinq.2yrs\",\n      \"properties\": {\n        \"dtype\": \"number\",\n        \"std\": 0,\n        \"min\": 0,\n        \"max\": 13,\n        \"num_unique_values\": 11,\n        \"samples\": [\n          5,\n          0\n        ],\n        \"semantic_type\": \"\",\n        \"description\": \"\"\n      }\n    },\n    {\n      \"column\": \"pub.rec\",\n      \"properties\": {\n        \"dtype\": \"number\",\n        \"std\": 0,\n        \"min\": 0,\n        \"max\": 5,\n        \"num_unique_values\": 6,\n        \"samples\": [\n          0,\n          1\n        ],\n        \"semantic_type\": \"\",\n        \"description\": \"\"\n      }\n    },\n    {\n      \"column\": \"not.fully.paid\",\n      \"properties\": {\n        \"dtype\": \"number\",\n        \"std\": 0,\n        \"min\": 0,\n        \"max\": 1,\n        \"num_unique_values\": 2,\n        \"samples\": [\n          1,\n          0\n        ],\n        \"semantic_type\": \"\",\n        \"description\": \"\"\n      }\n    }\n  ]\n}"
            }
          },
          "metadata": {},
          "execution_count": 3
        }
      ]
    },
    {
      "cell_type": "markdown",
      "source": [
        "X = dataset.iloc[:, :-1].values - Этот код извлекает матрицу признаков X из загруженного набора данных dataset. Он использует метод iloc для доступа к данным по индексам. Здесь [:, :-1] означает, что мы выбираем все строки и все столбцы, кроме последнего, так как предполагается, что последний столбец содержит зависимую переменную или целевую переменную. .values преобразует выбранные данные в массив numpy для дальнейшей обработки.\n",
        "\n",
        "y = dataset.iloc[:, -1].values - Этот код извлекает зависимую переменную y из набора данных dataset. Он выбирает все строки и только последний столбец с помощью [:, -1], предполагая, что последний столбец содержит зависимую переменную. Как и в предыдущем случае, .values преобразует данные в массив numpy.\n",
        "\n",
        "print(\"Матрица признаков\"); print(X) - Этот код выводит на экран матрицу признаков X, чтобы пользователь мог ознакомиться с данными, с которыми работает алгоритм.\n",
        "\n",
        "print(\"Зависимая переменная\"); print(y) - Этот код выводит на экран зависимую переменную y, также с целью ознакомления пользователя с этими данными."
      ],
      "metadata": {
        "id": "0aYEwcUVQNA6"
      }
    },
    {
      "cell_type": "code",
      "source": [
        "X = dataset.iloc[:, :-1].values\n",
        "y = dataset.iloc[:, -1].values\n",
        "\n",
        "print(\"Матрица признаков\"); print(X)\n",
        "print(\"Зависимая переменная\"); print(y)"
      ],
      "metadata": {
        "colab": {
          "base_uri": "https://localhost:8080/"
        },
        "id": "f7o7e7WpuR3t",
        "outputId": "0b09fa07-fb1f-42a3-dcd3-76f2c8f3dd83"
      },
      "execution_count": null,
      "outputs": [
        {
          "output_type": "stream",
          "name": "stdout",
          "text": [
            "Матрица признаков\n",
            "[[1 'debt_consolidation' 0.1189 ... 0 0 0]\n",
            " [1 'credit_card' 0.1071 ... 0 0 0]\n",
            " [1 'debt_consolidation' 0.1357 ... 1 0 0]\n",
            " ...\n",
            " [0 'debt_consolidation' 0.1071 ... 8 0 0]\n",
            " [0 'home_improvement' 0.16 ... 5 0 0]\n",
            " [0 'debt_consolidation' 0.1392 ... 6 0 0]]\n",
            "Зависимая переменная\n",
            "[0 0 0 ... 1 1 1]\n"
          ]
        }
      ]
    },
    {
      "cell_type": "markdown",
      "source": [
        "dataset.isnull() - Этот метод проверяет каждое значение в наборе данных (dataset) на наличие пропущенных значений. Если значение пропущено, возвращается True, в противном случае - False.\n",
        "\n",
        ".sum() - После применения isnull(), этот метод суммирует количество пропущенных значений в каждом столбце.\n",
        "\n",
        "print() - Эта функция выводит результат на экран."
      ],
      "metadata": {
        "id": "ImHV1MSFQlfb"
      }
    },
    {
      "cell_type": "code",
      "source": [
        "# Обработка пропущенных значений\n",
        "# Проверим, есть ли пропущенные значения в данных\n",
        "print(dataset.isnull().sum())"
      ],
      "metadata": {
        "colab": {
          "base_uri": "https://localhost:8080/"
        },
        "id": "h2jVP9oEuS89",
        "outputId": "4b969b5b-fbbb-437e-c8e9-71096003206f"
      },
      "execution_count": null,
      "outputs": [
        {
          "output_type": "stream",
          "name": "stdout",
          "text": [
            "credit.policy        0\n",
            "purpose              0\n",
            "int.rate             0\n",
            "installment          0\n",
            "log.annual.inc       0\n",
            "dti                  0\n",
            "fico                 0\n",
            "days.with.cr.line    0\n",
            "revol.bal            0\n",
            "revol.util           0\n",
            "inq.last.6mths       0\n",
            "delinq.2yrs          0\n",
            "pub.rec              0\n",
            "not.fully.paid       0\n",
            "dtype: int64\n"
          ]
        }
      ]
    },
    {
      "cell_type": "markdown",
      "source": [
        "labelencoder_y = LabelEncoder() - Эта строка создает экземпляр класса LabelEncoder из библиотеки scikit-learn. LabelEncoder используется для преобразования категориальных (неструктурных) данных в числовые значения, которые могут быть использованы алгоритмами машинного обучения.\n",
        "\n",
        "print('Зависимая переменная до обработки') и print(y) - Эти строки выводят на экран исходную зависимую переменную y до её обработки, чтобы пользователь мог ознакомиться с данными.\n",
        "\n",
        "y = labelencoder_y.fit_transform(y) - Этот вызов метода fit_transform() применяет кодирование категорий к зависимой переменной y. Метод fit_transform() сначала \"обучает\" кодировщик на уникальных значениях в y с помощью метода fit(), а затем преобразует их в числовые метки с помощью метода transform(). Результат сохраняется в переменной y.\n",
        "\n",
        "print('Зависимая переменная после обработки') и print(y) - Эти строки выводят на экран обработанную зависимую переменную y после её преобразования, чтобы пользователь мог убедиться, что процесс выполнен корректно."
      ],
      "metadata": {
        "id": "tIDW87Q1Qr-y"
      }
    },
    {
      "cell_type": "code",
      "source": [
        "labelencoder_y = LabelEncoder()\n",
        "print('Зависимая переменная до обработки')\n",
        "print(y)\n",
        "y = labelencoder_y.fit_transform(y)\n",
        "print('Зависимая переменная после обрабокти')\n",
        "print(y)"
      ],
      "metadata": {
        "colab": {
          "base_uri": "https://localhost:8080/"
        },
        "id": "bPX6AR0tuUy9",
        "outputId": "20334b5b-e230-4efb-a2b3-fd9d80ac5eff"
      },
      "execution_count": null,
      "outputs": [
        {
          "output_type": "stream",
          "name": "stdout",
          "text": [
            "Зависимая переменная до обработки\n",
            "[0 0 0 ... 1 1 1]\n",
            "Зависимая переменная после обрабокти\n",
            "[0 0 0 ... 1 1 1]\n"
          ]
        }
      ]
    },
    {
      "cell_type": "markdown",
      "source": [
        "ColumnTransformer - Этот класс из библиотеки scikit-learn позволяет применять различные преобразования к различным столбцам или подмножествам столбцов данных.\n",
        "\n",
        "('one_hot_encoder', OneHotEncoder(), [1]) - Этот кортеж определяет преобразование для столбца данных. Здесь используется метод One-Hot Encoding (OneHotEncoder()), который преобразует категориальные переменные в бинарные векторы. [1] указывает индекс столбца или столбцов, которые требуется закодировать.\n",
        "\n",
        "remainder='passthrough' - Этот параметр указывает, что все остальные столбцы данных должны оставаться без изменений (в данном случае, остальные столбцы после One-Hot Encoding останутся неизменными).\n",
        "\n",
        "X = ct.fit_transform(X) - Этот вызов метода fit_transform() применяет преобразование, описанное в ColumnTransformer, к исходным данным X.\n",
        "\n",
        "X = X[:, 1:] - Эта строка удаляет первый столбец после One-Hot Encoding. Это делается для избежания \"ловушки фиктивных переменных\" (Dummy Variable Trap), где один столбец можно предсказать на основе остальных.\n",
        "\n",
        "print(\"One-hot encoded функция:\") и print(X) - Эти строки выводят на экран One-Hot Encoded признаки после преобразования."
      ],
      "metadata": {
        "id": "hY_y_rztQ-R6"
      }
    },
    {
      "cell_type": "code",
      "source": [
        "ct = ColumnTransformer(\n",
        "    [('one_hot_encoder', OneHotEncoder(), [1])],\n",
        "    remainder='passthrough'\n",
        ")\n",
        "X = ct.fit_transform(X)\n",
        "X = X[:, 1:]\n",
        "print(\"One-hot encoded функция:\")\n",
        "print(X)"
      ],
      "metadata": {
        "colab": {
          "base_uri": "https://localhost:8080/"
        },
        "id": "uunVBJ2vuXCO",
        "outputId": "70bc8b3d-af52-4e7f-b454-2221b65bd66c"
      },
      "execution_count": null,
      "outputs": [
        {
          "output_type": "stream",
          "name": "stdout",
          "text": [
            "One-hot encoded функция:\n",
            "[[0.0 1.0 0.0 ... 0 0 0]\n",
            " [1.0 0.0 0.0 ... 0 0 0]\n",
            " [0.0 1.0 0.0 ... 1 0 0]\n",
            " ...\n",
            " [0.0 1.0 0.0 ... 8 0 0]\n",
            " [0.0 0.0 0.0 ... 5 0 0]\n",
            " [0.0 1.0 0.0 ... 6 0 0]]\n"
          ]
        }
      ]
    },
    {
      "cell_type": "markdown",
      "source": [
        "Код выполняет разделение данных на обучающий и тестовый наборы для обучения модели машинного обучения и её последующей оценки.\n",
        "\n",
        "X и y: X представляет собой матрицу признаков, а y - вектор целевых переменных. Эти данные используются для обучения модели, где X содержит признаки, а y - соответствующие значения, которые мы пытаемся предсказать с использованием модели.\n",
        "\n",
        "test_size=0.2: Этот аргумент указывает размер тестового набора данных. Здесь он равен 0.2, что означает, что 20% данных будут отложены для тестирования, а остальные 80% будут использоваться для обучения модели.\n",
        "\n",
        "random_state=0: Этот параметр обеспечивает воспроизводимость разделения данных. Если указано конкретное значение (например, 0), то при каждом запуске кода разделение будет происходить одинаковым образом. Это полезно для того, чтобы результаты были воспроизводимыми и не менялись при повторных запусках кода.\n",
        "\n",
        "X_train, X_test, y_train, y_test: После выполнения кода, данные будут разделены на четыре части:\n",
        "\n",
        "X_train: Обучающий набор признаков, который будет использоваться для обучения модели.\n",
        "\n",
        "X_test: Тестовый набор признаков, который будет использоваться для оценки производительности обученной модели.\n",
        "\n",
        "y_train: Значения целевой переменной, соответствующие обучающему набору данных.\n",
        "\n",
        "y_test: Значения целевой переменной, соответствующие тестовому набору данных.\n"
      ],
      "metadata": {
        "id": "zEJqZnVXQ_tq"
      }
    },
    {
      "cell_type": "code",
      "source": [
        "X_train, X_test, y_train, y_test = train_test_split(X, y, test_size=0.2, random_state=0)"
      ],
      "metadata": {
        "id": "vmrxSw9FvCaO"
      },
      "execution_count": null,
      "outputs": []
    },
    {
      "cell_type": "markdown",
      "source": [
        "polynomial_features = PolynomialFeatures(degree=degree): Здесь создается объект PolynomialFeatures из библиотеки scikit-learn с указанной степенью полинома.\n",
        "\n",
        "X_train_poly = polynomial_features.fit_transform(X_train): Этот шаг преобразует обучающие данные X_train в полиномиальные признаки указанной степени с помощью метода fit_transform() объекта PolynomialFeatures.\n",
        "\n",
        "X_test_poly = polynomial_features.transform(X_test): Аналогично, тестовые данные X_test также преобразуются в полиномиальные признаки, но уже с использованием метода transform(), так как параметры преобразования уже были выучены на обучающем наборе.\n",
        "\n",
        "lin_reg = LinearRegression(): Создается объект линейной регрессии.\n",
        "\n",
        "lin_reg.fit(X_train_poly, y_train): Модель линейной регрессии обучается на обучающем наборе данных, представленном в виде полиномиальных признаков.\n",
        "\n",
        "y_pred = lin_reg.predict(X_test_poly): Для тестового набора данных делается прогноз с помощью обученной модели.\n",
        "\n",
        "mse = mean_squared_error(y_test, y_pred): Вычисляется среднеквадратичная ошибка между фактическими значениями y_test и предсказанными значениями y_pred.\n",
        "\n",
        "return mse: Функция возвращает среднеквадратичную ошибку на тестовом наборе данных."
      ],
      "metadata": {
        "id": "zgNWZYDjUUiS"
      }
    },
    {
      "cell_type": "code",
      "source": [
        "def train_polynomial_regression(degree):\n",
        "    polynomial_features = PolynomialFeatures(degree=degree)\n",
        "    X_train_poly = polynomial_features.fit_transform(X_train)\n",
        "    X_test_poly = polynomial_features.transform(X_test)\n",
        "    lin_reg = LinearRegression()\n",
        "    lin_reg.fit(X_train_poly, y_train)\n",
        "    y_pred = lin_reg.predict(X_test_poly)\n",
        "    mse = mean_squared_error(y_test, y_pred)\n",
        "    return mse"
      ],
      "metadata": {
        "id": "_8DPfMKGubA9"
      },
      "execution_count": null,
      "outputs": []
    },
    {
      "cell_type": "markdown",
      "source": [
        "Создаем степени полинома для анализа"
      ],
      "metadata": {
        "id": "pJnsj1YYUdwE"
      }
    },
    {
      "cell_type": "code",
      "source": [
        "degrees = [1, 2, 3, 4, 5]"
      ],
      "metadata": {
        "id": "cYZ0r8B4SrcD"
      },
      "execution_count": null,
      "outputs": []
    },
    {
      "cell_type": "markdown",
      "source": [
        "Сначала создается пустой список mse_values, в который будут добавляться значения среднеквадратичной ошибки (MSE) для каждой степени полинома.\n",
        "\n",
        "Затем происходит итерация по каждой степени полинома из списка degrees.\n",
        "\n",
        "На каждой итерации модель полиномиальной регрессии обучается с использованием функции train_polynomial_regression(degree), которая возвращает MSE для данной степени полинома.\n",
        "\n",
        "Полученное значение MSE добавляется в список mse_values.\n",
        "\n",
        "Выводится сообщение, содержащее степень полинома и соответствующее ей значение MSE."
      ],
      "metadata": {
        "id": "X3ZVpbAbVOyz"
      }
    },
    {
      "cell_type": "code",
      "source": [
        "mse_values = []\n",
        "for degree in degrees:\n",
        "    mse = train_polynomial_regression(degree)\n",
        "    mse_values.append(mse)\n",
        "    print(f\"Степень полинома {degree}, MSE: {mse}\")"
      ],
      "metadata": {
        "colab": {
          "base_uri": "https://localhost:8080/"
        },
        "id": "YUSXJacsUCd0",
        "outputId": "62378076-d4db-4510-dbc1-4e3e8b9fa589"
      },
      "execution_count": null,
      "outputs": [
        {
          "output_type": "stream",
          "name": "stdout",
          "text": [
            "Степень полинома 1, MSE: 0.12511108933946669\n",
            "Степень полинома 2, MSE: 0.12750957338879226\n",
            "Степень полинома 3, MSE: 0.1783532893909408\n",
            "Степень полинома 4, MSE: 1.0475821902589781\n",
            "Степень полинома 5, MSE: 17.974056656895698\n"
          ]
        }
      ]
    },
    {
      "cell_type": "markdown",
      "source": [
        "Выполняет оценку производительности модели полиномиальной регрессии для разных степеней полинома на тестовом наборе данных и визуализирует зависимость среднеквадратичной ошибки (MSE) от степени полинома.\n",
        "\n",
        "Первый блок кода определяет список degrees, содержащий степени полиномов, которые будут рассмотрены при обучении моделей.\n",
        "\n",
        "Затем в цикле for происходит итерация по каждой степени полинома из списка degrees. На каждой итерации модель полиномиальной регрессии обучается с использованием функции train_polynomial_regression(degree), которая возвращает значение MSE для данной степени полинома. Полученное значение MSE добавляется в список mse_values, а затем выводится сообщение, содержащее степень полинома и соответствующее ей значение MSE.\n",
        "\n",
        "После завершения итераций выполняется визуализация результатов с помощью библиотеки Matplotlib. Создается график, на котором по оси x отображаются степени полинома, а по оси y - значения MSE. Точки на графике показывают зависимость MSE от степени полинома."
      ],
      "metadata": {
        "id": "ikTIKGreVP5i"
      }
    },
    {
      "cell_type": "code",
      "source": [
        "plt.figure(figsize=(10, 6))\n",
        "plt.plot(degrees, mse_values, marker='o')\n",
        "plt.title('Зависимость MSE от степени полинома')\n",
        "plt.xlabel('Степень полинома')\n",
        "plt.ylabel('MSE')\n",
        "plt.xticks(degrees)\n",
        "plt.grid(True)\n",
        "plt.show()"
      ],
      "metadata": {
        "colab": {
          "base_uri": "https://localhost:8080/",
          "height": 561
        },
        "id": "yqOlHrlpUEWr",
        "outputId": "aa63dc85-d226-4ead-87d0-237ae1dfb99b"
      },
      "execution_count": null,
      "outputs": [
        {
          "output_type": "display_data",
          "data": {
            "text/plain": [
              "<Figure size 1000x600 with 1 Axes>"
            ],
            "image/png": "[encoded data removed]"
          },
          "metadata": {}
        }
      ]
    },
    {
      "cell_type": "markdown",
      "source": [
        "# **Вывод**\n",
        "\n",
        "Предварительная обработка данных: Мы начали с загрузки данных из файла CSV и разделили их на матрицу признаков (X) и зависимую переменную (y). Затем мы проверили данные на наличие пропущенных значений и использовали кодирование меток для преобразования категориальных переменных в числовые.\n",
        "\n",
        "Обучение модели: Для обучения модели полиномиальной регрессии мы использовали библиотеку scikit-learn. Мы преобразовали признаки в полиномиальные при помощи PolynomialFeatures, после чего обучили линейную регрессию на преобразованных данных.\n",
        "\n",
        "Оценка производительности модели: Для оценки производительности модели мы вычислили среднеквадратичную ошибку (MSE) для каждой степени полинома в цикле, перебирая различные степени. Это помогло нам определить, как степень полинома влияет на точность модели.\n",
        "\n",
        "Визуализация результатов: Мы визуализировали зависимость MSE от степени полинома с помощью графика, где каждая точка на графике представляет собой соответствующую степень полинома и соответствующее значение MSE. Это позволило нам наглядно оценить, как изменяется производительность модели в зависимости от выбранной степени полинома.\n",
        "\n"
      ],
      "metadata": {
        "id": "q-WnFp6dVm0L"
      }
    },
    {
      "cell_type": "markdown",
      "source": [
        "\n",
        "\n",
        "### 1. Что такое проклятие размерности?\n",
        "\n",
        "**Проклятие размерности** — это явление, при котором увеличение числа признаков (размерности) в данных приводит к ухудшению производительности алгоритмов машинного обучения. С увеличением размерности данные становятся разреженными, что затрудняет выявление закономерностей и увеличивает вычислительные затраты. Это также может привести к переобучению моделей, так как они начинают подстраиваться под шум в данных, а не под истинные зависимости.\n",
        "\n",
        "### 2. Перечислите основные алгоритмы понижения размерности.\n",
        "\n",
        "Некоторые из основных алгоритмов понижения размерности включают:\n",
        "\n",
        "- **Метод главных компонент (PCA)**: Находит линейные комбинации признаков, которые максимизируют вариацию данных.\n",
        "- **t-SNE (t-distributed Stochastic Neighbor Embedding)**: Уменьшает размерность, сохраняя локальные структуры данных.\n",
        "- **UMAP (Uniform Manifold Approximation and Projection)**: Алгоритм, который сохраняет как локальную, так и глобальную структуру данных.\n",
        "- **LDA (Linear Discriminant Analysis)**: Используется для классификации и уменьшения размерности, оптимизируя разделение классов.\n",
        "- **Autoencoders**: Нейронные сети, которые учатся кодировать входные данные в меньшую размерность.\n",
        "\n",
        "### 3. Опишите алгоритм и основную идею метода PCA.\n",
        "\n",
        "**Метод главных компонент (PCA)** работает следующим образом:\n",
        "\n",
        "1. **Центрирование данных**: Вычисляется среднее значение для каждого признака, и данные центрируются, вычитая среднее.\n",
        "  \n",
        "2. **Ковариационная матрица**: Вычисляется ковариационная матрица для центрированных данных, которая показывает, как признаки соотносятся друг с другом.\n",
        "\n",
        "3. **Собственные значения и собственные векторы**: Находятся собственные значения и собственные векторы ковариационной матрицы. Собственные векторы представляют направления (главные компоненты), а собственные значения показывают, сколько вариации данных объясняет каждая главная компонента.\n",
        "\n",
        "4. **Сортировка и выбор**: Собственные векторы сортируются по убыванию собственных значений, и выбираются первые \\( k \\) векторов, которые будут использоваться для проекции данных в новое пространство меньшей размерности.\n",
        "\n",
        "5. **Проекция**: Данные проецируются на выбранные главные компоненты, что приводит к уменьшению размерности.\n",
        "\n",
        "### 4. Опишите концепцию метода t-SNE.\n",
        "\n",
        "**t-SNE (t-distributed Stochastic Neighbor Embedding)** — это метод, предназначенный для визуализации высокоразмерных данных в низкоразмерном пространстве (обычно 2D или 3D). Основная идея t-SNE заключается в следующем:\n",
        "\n",
        "1. **Сохранение локальной структуры**: t-SNE пытается сохранить расстояния между близкими точками в высокоразмерном пространстве, переводя их в низкоразмерное пространство.\n",
        "\n",
        "2. **Вероятностное распределение**: Для каждой точки в высокоразмерном пространстве вычисляется вероятность того, что другая точка является её соседом, используя гауссовское распределение. В низкоразмерном пространстве используется t-распределение для учета выбросов и улучшения разделимости.\n",
        "\n",
        "3. **Оптимизация**: t-SNE минимизирует различие между распределениями вероятностей в высокоразмерном и низкоразмерном пространствах с помощью алгоритма градиентного спуска. Это позволяет сохранить местные структуры данных, что делает метод особенно полезным для визуализации кластеров и группировок в данных.\n",
        "\n",
        "t-SNE часто используется для визуализации результатов кластеризации и анализа данных, так как он хорошо справляется с сохранением структуры данных, даже если они имеют сложные формы."
      ],
      "metadata": {
        "id": "XGKjDJRC4TFf"
      }
    }
  ]
}