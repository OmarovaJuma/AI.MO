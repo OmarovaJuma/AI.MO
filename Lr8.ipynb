{
  "nbformat": 4,
  "nbformat_minor": 0,
  "metadata": {
    "colab": {
      "provenance": [],
      "authorship_tag": "ABX9TyO51jwoht26mTpneoK1cU5q",
      "include_colab_link": true
    },
    "kernelspec": {
      "name": "python3",
      "display_name": "Python 3"
    },
    "language_info": {
      "name": "python"
    }
  },
  "cells": [
    {
      "cell_type": "markdown",
      "metadata": {
        "id": "view-in-github",
        "colab_type": "text"
      },
      "source": [
        "<a href=\"https://colab.research.google.com/github/OmarovaJuma/AI.MO/blob/main/Lr8.ipynb\" target=\"_parent\"><img src=\"https://colab.research.google.com/assets/colab-badge.svg\" alt=\"Open In Colab\"/></a>"
      ]
    },
    {
      "cell_type": "markdown",
      "source": [
        "# **Выполнила работу Омарова Джума группа ПИН-б-о-22-1**\n",
        "\n",
        "# **Лабораторная работа 8. Построение пайплайна одномерной регрессии**"
      ],
      "metadata": {
        "id": "EC0DtcJiQOes"
      }
    },
    {
      "cell_type": "markdown",
      "source": [
        "# **Первичный анализ**\n",
        "\n",
        "Описание набора данных:\n",
        "\n",
        "Набор данных \"Shopping dataset\" содержит информацию о клиентах, покупках и их характеристиках. Включает следующие признаки:\n",
        "\n",
        "Customer ID: Уникальный идентификатор клиента, используемый для отслеживания и анализа.\n",
        "\n",
        "Gender: Пол клиента, который может быть категоризирован как мужской, женский или небинарный.\n",
        "\n",
        "Income: Уровень дохода клиента, обычно категоризированный по доходным группам или диапазонам.\n",
        "\n",
        "Spending Score: Числовая оценка, присвоенная каждому клиенту на основе их потребительского поведения.\n",
        "\n",
        "Age: Возраст клиента, обычно категоризированный по возрастным группам или диапазонам.\n",
        "\n",
        "Этот набор данных предназначен для анализа поведения потребителей в магазинах. Возможные модели, которые можно построить на основе этого набора данных, включают:\n",
        "\n",
        "Прогнозирование расходов клиентов на основе их пола, возраста и уровня дохода.\n",
        "\n",
        "Сегментация клиентов на основе их потребительского поведения и создание персонализированных маркетинговых стратегий.\n",
        "\n",
        "Идентификация наиболее прибыльных клиентов и разработка программ лояльности, направленных на удержание этих клиентов.\n",
        "\n",
        "---\n",
        "\n",
        "Форма набора данных:\n",
        "\n",
        "Количество элементов набора данных: 200.\n",
        "\n",
        "Количество признаков: 5 признаков (Customer ID, Gender, Income, Spending Score, Age).\n",
        "\n",
        "Количество пропущенных значений: Нет\n",
        "\n",
        "Статистические значения:"
      ],
      "metadata": {
        "id": "V0qfYaEBQz2w"
      }
    },
    {
      "cell_type": "code",
      "source": [
        "# Рассчитать статистические показатели\n",
        "stats = dataset.describe()\n",
        "\n",
        "# Вывести статистические показатели\n",
        "print(stats)"
      ],
      "metadata": {
        "colab": {
          "base_uri": "https://localhost:8080/"
        },
        "id": "4tcLfoHPz9LU",
        "outputId": "e05937ee-7b57-4d67-91bc-5c7b45f89b0f"
      },
      "execution_count": null,
      "outputs": [
        {
          "output_type": "stream",
          "name": "stdout",
          "text": [
            "       CustomerID         Age  Annual Income (k$)  Spending Score (1-100)\n",
            "count  200.000000  200.000000          200.000000              200.000000\n",
            "mean   100.500000   38.850000           60.560000               50.200000\n",
            "std     57.879185   13.969007           26.264721               25.823522\n",
            "min      1.000000   18.000000           15.000000                1.000000\n",
            "25%     50.750000   28.750000           41.500000               34.750000\n",
            "50%    100.500000   36.000000           61.500000               50.000000\n",
            "75%    150.250000   49.000000           78.000000               73.000000\n",
            "max    200.000000   70.000000          137.000000               99.000000\n"
          ]
        }
      ]
    },
    {
      "cell_type": "markdown",
      "source": [
        "numpy: Это библиотека для работы с многомерными массивами и матрицами, а также с функциями, предназначенными для операций над этими массивами. В контексте data science numpy часто используется для обработки данных, выполнения математических операций, а также для работы с массивами данных, что делает его незаменимым инструментом для эффективной работы с данными.\n",
        "\n",
        "matplotlib: Это библиотека для создания статических, интерактивных и анимированных визуализаций данных в Python. Она широко используется для построения графиков, диаграмм и других визуальных представлений данных, что делает ее полезной для исследования данных, визуализации результатов и коммуникации выводов.\n",
        "\n",
        "pandas: Это библиотека для анализа данных, предоставляющая мощные структуры данных, такие как DataFrame, которые удобны для работы с табличными данными. Она предоставляет множество функций для чтения, записи, фильтрации, сортировки и агрегирования данных, что делает ее одним из основных инструментов для работы с данными в Python."
      ],
      "metadata": {
        "id": "ooUY-8WTTzeW"
      }
    },
    {
      "cell_type": "code",
      "execution_count": null,
      "metadata": {
        "id": "qwwyVr2Rr0Rf"
      },
      "outputs": [],
      "source": [
        "import numpy as np\n",
        "import matplotlib.pyplot as plt\n",
        "import pandas as pd"
      ]
    },
    {
      "cell_type": "markdown",
      "source": [
        "Загружает данные из CSV-файла с именем \"Shopping_data.csv\" в формате DataFrame с помощью библиотеки pandas. Предполагается, что файл \"Shopping_data.csv\" содержит данные о покупках или связанные с этими данными.\n",
        "\n",
        "После загрузки данных они сохраняются в переменной dataset. Для того чтобы увидеть содержимое загруженных данных, код выводит содержимое dataset, что позволяет пользователю просмотреть первые несколько строк данных и их структуру."
      ],
      "metadata": {
        "id": "TaXGSyq0T1Ll"
      }
    },
    {
      "cell_type": "code",
      "source": [
        "dataset = pd.read_csv(\"dataset/Shopping_data.csv\")\n",
        "dataset"
      ],
      "metadata": {
        "colab": {
          "base_uri": "https://localhost:8080/",
          "height": 424
        },
        "id": "xkmJoomcyY46",
        "outputId": "865e1de0-de6d-48d7-d46f-83e3beae6d34"
      },
      "execution_count": null,
      "outputs": [
        {
          "output_type": "execute_result",
          "data": {
            "text/plain": [
              "     CustomerID   Genre  Age  Annual Income (k$)  Spending Score (1-100)\n",
              "0             1    Male   19                  15                      39\n",
              "1             2    Male   21                  15                      81\n",
              "2             3  Female   20                  16                       6\n",
              "3             4  Female   23                  16                      77\n",
              "4             5  Female   31                  17                      40\n",
              "..          ...     ...  ...                 ...                     ...\n",
              "195         196  Female   35                 120                      79\n",
              "196         197  Female   45                 126                      28\n",
              "197         198    Male   32                 126                      74\n",
              "198         199    Male   32                 137                      18\n",
              "199         200    Male   30                 137                      83\n",
              "\n",
              "[200 rows x 5 columns]"
            ],
            "text/html": [
              "\n",
              "  <div id=\"df-ea7015dd-004a-4109-a08e-79ed3e139b84\" class=\"colab-df-container\">\n",
              "    <div>\n",
              "<style scoped>\n",
              "    .dataframe tbody tr th:only-of-type {\n",
              "        vertical-align: middle;\n",
              "    }\n",
              "\n",
              "    .dataframe tbody tr th {\n",
              "        vertical-align: top;\n",
              "    }\n",
              "\n",
              "    .dataframe thead th {\n",
              "        text-align: right;\n",
              "    }\n",
              "</style>\n",
              "<table border=\"1\" class=\"dataframe\">\n",
              "  <thead>\n",
              "    <tr style=\"text-align: right;\">\n",
              "      <th></th>\n",
              "      <th>CustomerID</th>\n",
              "      <th>Genre</th>\n",
              "      <th>Age</th>\n",
              "      <th>Annual Income (k$)</th>\n",
              "      <th>Spending Score (1-100)</th>\n",
              "    </tr>\n",
              "  </thead>\n",
              "  <tbody>\n",
              "    <tr>\n",
              "      <th>0</th>\n",
              "      <td>1</td>\n",
              "      <td>Male</td>\n",
              "      <td>19</td>\n",
              "      <td>15</td>\n",
              "      <td>39</td>\n",
              "    </tr>\n",
              "    <tr>\n",
              "      <th>1</th>\n",
              "      <td>2</td>\n",
              "      <td>Male</td>\n",
              "      <td>21</td>\n",
              "      <td>15</td>\n",
              "      <td>81</td>\n",
              "    </tr>\n",
              "    <tr>\n",
              "      <th>2</th>\n",
              "      <td>3</td>\n",
              "      <td>Female</td>\n",
              "      <td>20</td>\n",
              "      <td>16</td>\n",
              "      <td>6</td>\n",
              "    </tr>\n",
              "    <tr>\n",
              "      <th>3</th>\n",
              "      <td>4</td>\n",
              "      <td>Female</td>\n",
              "      <td>23</td>\n",
              "      <td>16</td>\n",
              "      <td>77</td>\n",
              "    </tr>\n",
              "    <tr>\n",
              "      <th>4</th>\n",
              "      <td>5</td>\n",
              "      <td>Female</td>\n",
              "      <td>31</td>\n",
              "      <td>17</td>\n",
              "      <td>40</td>\n",
              "    </tr>\n",
              "    <tr>\n",
              "      <th>...</th>\n",
              "      <td>...</td>\n",
              "      <td>...</td>\n",
              "      <td>...</td>\n",
              "      <td>...</td>\n",
              "      <td>...</td>\n",
              "    </tr>\n",
              "    <tr>\n",
              "      <th>195</th>\n",
              "      <td>196</td>\n",
              "      <td>Female</td>\n",
              "      <td>35</td>\n",
              "      <td>120</td>\n",
              "      <td>79</td>\n",
              "    </tr>\n",
              "    <tr>\n",
              "      <th>196</th>\n",
              "      <td>197</td>\n",
              "      <td>Female</td>\n",
              "      <td>45</td>\n",
              "      <td>126</td>\n",
              "      <td>28</td>\n",
              "    </tr>\n",
              "    <tr>\n",
              "      <th>197</th>\n",
              "      <td>198</td>\n",
              "      <td>Male</td>\n",
              "      <td>32</td>\n",
              "      <td>126</td>\n",
              "      <td>74</td>\n",
              "    </tr>\n",
              "    <tr>\n",
              "      <th>198</th>\n",
              "      <td>199</td>\n",
              "      <td>Male</td>\n",
              "      <td>32</td>\n",
              "      <td>137</td>\n",
              "      <td>18</td>\n",
              "    </tr>\n",
              "    <tr>\n",
              "      <th>199</th>\n",
              "      <td>200</td>\n",
              "      <td>Male</td>\n",
              "      <td>30</td>\n",
              "      <td>137</td>\n",
              "      <td>83</td>\n",
              "    </tr>\n",
              "  </tbody>\n",
              "</table>\n",
              "<p>200 rows × 5 columns</p>\n",
              "</div>\n",
              "    <div class=\"colab-df-buttons\">\n",
              "\n",
              "  <div class=\"colab-df-container\">\n",
              "    <button class=\"colab-df-convert\" onclick=\"convertToInteractive('df-ea7015dd-004a-4109-a08e-79ed3e139b84')\"\n",
              "            title=\"Convert this dataframe to an interactive table.\"\n",
              "            style=\"display:none;\">\n",
              "\n",
              "  <svg xmlns=\"http://www.w3.org/2000/svg\" height=\"24px\" viewBox=\"0 -960 960 960\">\n",
              "    <path d=\"M120-120v-720h720v720H120Zm60-500h600v-160H180v160Zm220 220h160v-160H400v160Zm0 220h160v-160H400v160ZM180-400h160v-160H180v160Zm440 0h160v-160H620v160ZM180-180h160v-160H180v160Zm440 0h160v-160H620v160Z\"/>\n",
              "  </svg>\n",
              "    </button>\n",
              "\n",
              "  <style>\n",
              "    .colab-df-container {\n",
              "      display:flex;\n",
              "      gap: 12px;\n",
              "    }\n",
              "\n",
              "    .colab-df-convert {\n",
              "      background-color: #E8F0FE;\n",
              "      border: none;\n",
              "      border-radius: 50%;\n",
              "      cursor: pointer;\n",
              "      display: none;\n",
              "      fill: #1967D2;\n",
              "      height: 32px;\n",
              "      padding: 0 0 0 0;\n",
              "      width: 32px;\n",
              "    }\n",
              "\n",
              "    .colab-df-convert:hover {\n",
              "      background-color: #E2EBFA;\n",
              "      box-shadow: 0px 1px 2px rgba(60, 64, 67, 0.3), 0px 1px 3px 1px rgba(60, 64, 67, 0.15);\n",
              "      fill: #174EA6;\n",
              "    }\n",
              "\n",
              "    .colab-df-buttons div {\n",
              "      margin-bottom: 4px;\n",
              "    }\n",
              "\n",
              "    [theme=dark] .colab-df-convert {\n",
              "      background-color: #3B4455;\n",
              "      fill: #D2E3FC;\n",
              "    }\n",
              "\n",
              "    [theme=dark] .colab-df-convert:hover {\n",
              "      background-color: #434B5C;\n",
              "      box-shadow: 0px 1px 3px 1px rgba(0, 0, 0, 0.15);\n",
              "      filter: drop-shadow(0px 1px 2px rgba(0, 0, 0, 0.3));\n",
              "      fill: #FFFFFF;\n",
              "    }\n",
              "  </style>\n",
              "\n",
              "    <script>\n",
              "      const buttonEl =\n",
              "        document.querySelector('#df-ea7015dd-004a-4109-a08e-79ed3e139b84 button.colab-df-convert');\n",
              "      buttonEl.style.display =\n",
              "        google.colab.kernel.accessAllowed ? 'block' : 'none';\n",
              "\n",
              "      async function convertToInteractive(key) {\n",
              "        const element = document.querySelector('#df-ea7015dd-004a-4109-a08e-79ed3e139b84');\n",
              "        const dataTable =\n",
              "          await google.colab.kernel.invokeFunction('convertToInteractive',\n",
              "                                                    [key], {});\n",
              "        if (!dataTable) return;\n",
              "\n",
              "        const docLinkHtml = 'Like what you see? Visit the ' +\n",
              "          '<a target=\"_blank\" href=https://colab.research.google.com/notebooks/data_table.ipynb>data table notebook</a>'\n",
              "          + ' to learn more about interactive tables.';\n",
              "        element.innerHTML = '';\n",
              "        dataTable['output_type'] = 'display_data';\n",
              "        await google.colab.output.renderOutput(dataTable, element);\n",
              "        const docLink = document.createElement('div');\n",
              "        docLink.innerHTML = docLinkHtml;\n",
              "        element.appendChild(docLink);\n",
              "      }\n",
              "    </script>\n",
              "  </div>\n",
              "\n",
              "\n",
              "<div id=\"df-cc4d1c23-620a-4024-8ad0-3ad0cd075d02\">\n",
              "  <button class=\"colab-df-quickchart\" onclick=\"quickchart('df-cc4d1c23-620a-4024-8ad0-3ad0cd075d02')\"\n",
              "            title=\"Suggest charts\"\n",
              "            style=\"display:none;\">\n",
              "\n",
              "<svg xmlns=\"http://www.w3.org/2000/svg\" height=\"24px\"viewBox=\"0 0 24 24\"\n",
              "     width=\"24px\">\n",
              "    <g>\n",
              "        <path d=\"M19 3H5c-1.1 0-2 .9-2 2v14c0 1.1.9 2 2 2h14c1.1 0 2-.9 2-2V5c0-1.1-.9-2-2-2zM9 17H7v-7h2v7zm4 0h-2V7h2v10zm4 0h-2v-4h2v4z\"/>\n",
              "    </g>\n",
              "</svg>\n",
              "  </button>\n",
              "\n",
              "<style>\n",
              "  .colab-df-quickchart {\n",
              "      --bg-color: #E8F0FE;\n",
              "      --fill-color: #1967D2;\n",
              "      --hover-bg-color: #E2EBFA;\n",
              "      --hover-fill-color: #174EA6;\n",
              "      --disabled-fill-color: #AAA;\n",
              "      --disabled-bg-color: #DDD;\n",
              "  }\n",
              "\n",
              "  [theme=dark] .colab-df-quickchart {\n",
              "      --bg-color: #3B4455;\n",
              "      --fill-color: #D2E3FC;\n",
              "      --hover-bg-color: #434B5C;\n",
              "      --hover-fill-color: #FFFFFF;\n",
              "      --disabled-bg-color: #3B4455;\n",
              "      --disabled-fill-color: #666;\n",
              "  }\n",
              "\n",
              "  .colab-df-quickchart {\n",
              "    background-color: var(--bg-color);\n",
              "    border: none;\n",
              "    border-radius: 50%;\n",
              "    cursor: pointer;\n",
              "    display: none;\n",
              "    fill: var(--fill-color);\n",
              "    height: 32px;\n",
              "    padding: 0;\n",
              "    width: 32px;\n",
              "  }\n",
              "\n",
              "  .colab-df-quickchart:hover {\n",
              "    background-color: var(--hover-bg-color);\n",
              "    box-shadow: 0 1px 2px rgba(60, 64, 67, 0.3), 0 1px 3px 1px rgba(60, 64, 67, 0.15);\n",
              "    fill: var(--button-hover-fill-color);\n",
              "  }\n",
              "\n",
              "  .colab-df-quickchart-complete:disabled,\n",
              "  .colab-df-quickchart-complete:disabled:hover {\n",
              "    background-color: var(--disabled-bg-color);\n",
              "    fill: var(--disabled-fill-color);\n",
              "    box-shadow: none;\n",
              "  }\n",
              "\n",
              "  .colab-df-spinner {\n",
              "    border: 2px solid var(--fill-color);\n",
              "    border-color: transparent;\n",
              "    border-bottom-color: var(--fill-color);\n",
              "    animation:\n",
              "      spin 1s steps(1) infinite;\n",
              "  }\n",
              "\n",
              "  @keyframes spin {\n",
              "    0% {\n",
              "      border-color: transparent;\n",
              "      border-bottom-color: var(--fill-color);\n",
              "      border-left-color: var(--fill-color);\n",
              "    }\n",
              "    20% {\n",
              "      border-color: transparent;\n",
              "      border-left-color: var(--fill-color);\n",
              "      border-top-color: var(--fill-color);\n",
              "    }\n",
              "    30% {\n",
              "      border-color: transparent;\n",
              "      border-left-color: var(--fill-color);\n",
              "      border-top-color: var(--fill-color);\n",
              "      border-right-color: var(--fill-color);\n",
              "    }\n",
              "    40% {\n",
              "      border-color: transparent;\n",
              "      border-right-color: var(--fill-color);\n",
              "      border-top-color: var(--fill-color);\n",
              "    }\n",
              "    60% {\n",
              "      border-color: transparent;\n",
              "      border-right-color: var(--fill-color);\n",
              "    }\n",
              "    80% {\n",
              "      border-color: transparent;\n",
              "      border-right-color: var(--fill-color);\n",
              "      border-bottom-color: var(--fill-color);\n",
              "    }\n",
              "    90% {\n",
              "      border-color: transparent;\n",
              "      border-bottom-color: var(--fill-color);\n",
              "    }\n",
              "  }\n",
              "</style>\n",
              "\n",
              "  <script>\n",
              "    async function quickchart(key) {\n",
              "      const quickchartButtonEl =\n",
              "        document.querySelector('#' + key + ' button');\n",
              "      quickchartButtonEl.disabled = true;  // To prevent multiple clicks.\n",
              "      quickchartButtonEl.classList.add('colab-df-spinner');\n",
              "      try {\n",
              "        const charts = await google.colab.kernel.invokeFunction(\n",
              "            'suggestCharts', [key], {});\n",
              "      } catch (error) {\n",
              "        console.error('Error during call to suggestCharts:', error);\n",
              "      }\n",
              "      quickchartButtonEl.classList.remove('colab-df-spinner');\n",
              "      quickchartButtonEl.classList.add('colab-df-quickchart-complete');\n",
              "    }\n",
              "    (() => {\n",
              "      let quickchartButtonEl =\n",
              "        document.querySelector('#df-cc4d1c23-620a-4024-8ad0-3ad0cd075d02 button');\n",
              "      quickchartButtonEl.style.display =\n",
              "        google.colab.kernel.accessAllowed ? 'block' : 'none';\n",
              "    })();\n",
              "  </script>\n",
              "</div>\n",
              "    </div>\n",
              "  </div>\n"
            ],
            "application/vnd.google.colaboratory.intrinsic+json": {
              "type": "dataframe",
              "variable_name": "dataset",
              "summary": "{\n  \"name\": \"dataset\",\n  \"rows\": 200,\n  \"fields\": [\n    {\n      \"column\": \"CustomerID\",\n      \"properties\": {\n        \"dtype\": \"number\",\n        \"std\": 57,\n        \"min\": 1,\n        \"max\": 200,\n        \"num_unique_values\": 200,\n        \"samples\": [\n          96,\n          16,\n          31\n        ],\n        \"semantic_type\": \"\",\n        \"description\": \"\"\n      }\n    },\n    {\n      \"column\": \"Genre\",\n      \"properties\": {\n        \"dtype\": \"category\",\n        \"num_unique_values\": 2,\n        \"samples\": [\n          \"Female\",\n          \"Male\"\n        ],\n        \"semantic_type\": \"\",\n        \"description\": \"\"\n      }\n    },\n    {\n      \"column\": \"Age\",\n      \"properties\": {\n        \"dtype\": \"number\",\n        \"std\": 13,\n        \"min\": 18,\n        \"max\": 70,\n        \"num_unique_values\": 51,\n        \"samples\": [\n          55,\n          26\n        ],\n        \"semantic_type\": \"\",\n        \"description\": \"\"\n      }\n    },\n    {\n      \"column\": \"Annual Income (k$)\",\n      \"properties\": {\n        \"dtype\": \"number\",\n        \"std\": 26,\n        \"min\": 15,\n        \"max\": 137,\n        \"num_unique_values\": 64,\n        \"samples\": [\n          87,\n          101\n        ],\n        \"semantic_type\": \"\",\n        \"description\": \"\"\n      }\n    },\n    {\n      \"column\": \"Spending Score (1-100)\",\n      \"properties\": {\n        \"dtype\": \"number\",\n        \"std\": 25,\n        \"min\": 1,\n        \"max\": 99,\n        \"num_unique_values\": 84,\n        \"samples\": [\n          83,\n          39\n        ],\n        \"semantic_type\": \"\",\n        \"description\": \"\"\n      }\n    }\n  ]\n}"
            }
          },
          "metadata": {},
          "execution_count": 4
        }
      ]
    },
    {
      "cell_type": "markdown",
      "source": [
        "Разделяет загруженные данные на матрицу признаков X и вектор зависимой переменной y.\n",
        "\n",
        "X содержит все столбцы (признаки), кроме последнего, из загруженного DataFrame dataset. Это обычно делается для изоляции независимых переменных, которые будут использоваться для прогнозирования или классификации.\n",
        "\n",
        "y содержит только последний столбец из загруженного DataFrame dataset, который обычно представляет собой зависимую переменную или целевую переменную, которую мы хотим предсказать или классифицировать."
      ],
      "metadata": {
        "id": "zuu7-QfEUEIT"
      }
    },
    {
      "cell_type": "code",
      "source": [
        "X = dataset.iloc[:, :-1].values\n",
        "y = dataset.iloc[:, -1].values\n",
        "\n",
        "print(\"Матрица признаков\"); print(X)\n",
        "print(\"Зависимая переменная\"); print(y)"
      ],
      "metadata": {
        "colab": {
          "base_uri": "https://localhost:8080/"
        },
        "id": "ytM4d3kAzkHG",
        "outputId": "5902182f-f035-4503-b5ec-42162f2746c1"
      },
      "execution_count": null,
      "outputs": [
        {
          "output_type": "stream",
          "name": "stdout",
          "text": [
            "Матрица признаков\n",
            "[[1 'Male' 19 15]\n",
            " [2 'Male' 21 15]\n",
            " [3 'Female' 20 16]\n",
            " [4 'Female' 23 16]\n",
            " [5 'Female' 31 17]\n",
            " [6 'Female' 22 17]\n",
            " [7 'Female' 35 18]\n",
            " [8 'Female' 23 18]\n",
            " [9 'Male' 64 19]\n",
            " [10 'Female' 30 19]\n",
            " [11 'Male' 67 19]\n",
            " [12 'Female' 35 19]\n",
            " [13 'Female' 58 20]\n",
            " [14 'Female' 24 20]\n",
            " [15 'Male' 37 20]\n",
            " [16 'Male' 22 20]\n",
            " [17 'Female' 35 21]\n",
            " [18 'Male' 20 21]\n",
            " [19 'Male' 52 23]\n",
            " [20 'Female' 35 23]\n",
            " [21 'Male' 35 24]\n",
            " [22 'Male' 25 24]\n",
            " [23 'Female' 46 25]\n",
            " [24 'Male' 31 25]\n",
            " [25 'Female' 54 28]\n",
            " [26 'Male' 29 28]\n",
            " [27 'Female' 45 28]\n",
            " [28 'Male' 35 28]\n",
            " [29 'Female' 40 29]\n",
            " [30 'Female' 23 29]\n",
            " [31 'Male' 60 30]\n",
            " [32 'Female' 21 30]\n",
            " [33 'Male' 53 33]\n",
            " [34 'Male' 18 33]\n",
            " [35 'Female' 49 33]\n",
            " [36 'Female' 21 33]\n",
            " [37 'Female' 42 34]\n",
            " [38 'Female' 30 34]\n",
            " [39 'Female' 36 37]\n",
            " [40 'Female' 20 37]\n",
            " [41 'Female' 65 38]\n",
            " [42 'Male' 24 38]\n",
            " [43 'Male' 48 39]\n",
            " [44 'Female' 31 39]\n",
            " [45 'Female' 49 39]\n",
            " [46 'Female' 24 39]\n",
            " [47 'Female' 50 40]\n",
            " [48 'Female' 27 40]\n",
            " [49 'Female' 29 40]\n",
            " [50 'Female' 31 40]\n",
            " [51 'Female' 49 42]\n",
            " [52 'Male' 33 42]\n",
            " [53 'Female' 31 43]\n",
            " [54 'Male' 59 43]\n",
            " [55 'Female' 50 43]\n",
            " [56 'Male' 47 43]\n",
            " [57 'Female' 51 44]\n",
            " [58 'Male' 69 44]\n",
            " [59 'Female' 27 46]\n",
            " [60 'Male' 53 46]\n",
            " [61 'Male' 70 46]\n",
            " [62 'Male' 19 46]\n",
            " [63 'Female' 67 47]\n",
            " [64 'Female' 54 47]\n",
            " [65 'Male' 63 48]\n",
            " [66 'Male' 18 48]\n",
            " [67 'Female' 43 48]\n",
            " [68 'Female' 68 48]\n",
            " [69 'Male' 19 48]\n",
            " [70 'Female' 32 48]\n",
            " [71 'Male' 70 49]\n",
            " [72 'Female' 47 49]\n",
            " [73 'Female' 60 50]\n",
            " [74 'Female' 60 50]\n",
            " [75 'Male' 59 54]\n",
            " [76 'Male' 26 54]\n",
            " [77 'Female' 45 54]\n",
            " [78 'Male' 40 54]\n",
            " [79 'Female' 23 54]\n",
            " [80 'Female' 49 54]\n",
            " [81 'Male' 57 54]\n",
            " [82 'Male' 38 54]\n",
            " [83 'Male' 67 54]\n",
            " [84 'Female' 46 54]\n",
            " [85 'Female' 21 54]\n",
            " [86 'Male' 48 54]\n",
            " [87 'Female' 55 57]\n",
            " [88 'Female' 22 57]\n",
            " [89 'Female' 34 58]\n",
            " [90 'Female' 50 58]\n",
            " [91 'Female' 68 59]\n",
            " [92 'Male' 18 59]\n",
            " [93 'Male' 48 60]\n",
            " [94 'Female' 40 60]\n",
            " [95 'Female' 32 60]\n",
            " [96 'Male' 24 60]\n",
            " [97 'Female' 47 60]\n",
            " [98 'Female' 27 60]\n",
            " [99 'Male' 48 61]\n",
            " [100 'Male' 20 61]\n",
            " [101 'Female' 23 62]\n",
            " [102 'Female' 49 62]\n",
            " [103 'Male' 67 62]\n",
            " [104 'Male' 26 62]\n",
            " [105 'Male' 49 62]\n",
            " [106 'Female' 21 62]\n",
            " [107 'Female' 66 63]\n",
            " [108 'Male' 54 63]\n",
            " [109 'Male' 68 63]\n",
            " [110 'Male' 66 63]\n",
            " [111 'Male' 65 63]\n",
            " [112 'Female' 19 63]\n",
            " [113 'Female' 38 64]\n",
            " [114 'Male' 19 64]\n",
            " [115 'Female' 18 65]\n",
            " [116 'Female' 19 65]\n",
            " [117 'Female' 63 65]\n",
            " [118 'Female' 49 65]\n",
            " [119 'Female' 51 67]\n",
            " [120 'Female' 50 67]\n",
            " [121 'Male' 27 67]\n",
            " [122 'Female' 38 67]\n",
            " [123 'Female' 40 69]\n",
            " [124 'Male' 39 69]\n",
            " [125 'Female' 23 70]\n",
            " [126 'Female' 31 70]\n",
            " [127 'Male' 43 71]\n",
            " [128 'Male' 40 71]\n",
            " [129 'Male' 59 71]\n",
            " [130 'Male' 38 71]\n",
            " [131 'Male' 47 71]\n",
            " [132 'Male' 39 71]\n",
            " [133 'Female' 25 72]\n",
            " [134 'Female' 31 72]\n",
            " [135 'Male' 20 73]\n",
            " [136 'Female' 29 73]\n",
            " [137 'Female' 44 73]\n",
            " [138 'Male' 32 73]\n",
            " [139 'Male' 19 74]\n",
            " [140 'Female' 35 74]\n",
            " [141 'Female' 57 75]\n",
            " [142 'Male' 32 75]\n",
            " [143 'Female' 28 76]\n",
            " [144 'Female' 32 76]\n",
            " [145 'Male' 25 77]\n",
            " [146 'Male' 28 77]\n",
            " [147 'Male' 48 77]\n",
            " [148 'Female' 32 77]\n",
            " [149 'Female' 34 78]\n",
            " [150 'Male' 34 78]\n",
            " [151 'Male' 43 78]\n",
            " [152 'Male' 39 78]\n",
            " [153 'Female' 44 78]\n",
            " [154 'Female' 38 78]\n",
            " [155 'Female' 47 78]\n",
            " [156 'Female' 27 78]\n",
            " [157 'Male' 37 78]\n",
            " [158 'Female' 30 78]\n",
            " [159 'Male' 34 78]\n",
            " [160 'Female' 30 78]\n",
            " [161 'Female' 56 79]\n",
            " [162 'Female' 29 79]\n",
            " [163 'Male' 19 81]\n",
            " [164 'Female' 31 81]\n",
            " [165 'Male' 50 85]\n",
            " [166 'Female' 36 85]\n",
            " [167 'Male' 42 86]\n",
            " [168 'Female' 33 86]\n",
            " [169 'Female' 36 87]\n",
            " [170 'Male' 32 87]\n",
            " [171 'Male' 40 87]\n",
            " [172 'Male' 28 87]\n",
            " [173 'Male' 36 87]\n",
            " [174 'Male' 36 87]\n",
            " [175 'Female' 52 88]\n",
            " [176 'Female' 30 88]\n",
            " [177 'Male' 58 88]\n",
            " [178 'Male' 27 88]\n",
            " [179 'Male' 59 93]\n",
            " [180 'Male' 35 93]\n",
            " [181 'Female' 37 97]\n",
            " [182 'Female' 32 97]\n",
            " [183 'Male' 46 98]\n",
            " [184 'Female' 29 98]\n",
            " [185 'Female' 41 99]\n",
            " [186 'Male' 30 99]\n",
            " [187 'Female' 54 101]\n",
            " [188 'Male' 28 101]\n",
            " [189 'Female' 41 103]\n",
            " [190 'Female' 36 103]\n",
            " [191 'Female' 34 103]\n",
            " [192 'Female' 32 103]\n",
            " [193 'Male' 33 113]\n",
            " [194 'Female' 38 113]\n",
            " [195 'Female' 47 120]\n",
            " [196 'Female' 35 120]\n",
            " [197 'Female' 45 126]\n",
            " [198 'Male' 32 126]\n",
            " [199 'Male' 32 137]\n",
            " [200 'Male' 30 137]]\n",
            "Зависимая переменная\n",
            "[39 81  6 77 40 76  6 94  3 72 14 99 15 77 13 79 35 66 29 98 35 73  5 73\n",
            " 14 82 32 61 31 87  4 73  4 92 14 81 17 73 26 75 35 92 36 61 28 65 55 47\n",
            " 42 42 52 60 54 60 45 41 50 46 51 46 56 55 52 59 51 59 50 48 59 47 55 42\n",
            " 49 56 47 54 53 48 52 42 51 55 41 44 57 46 58 55 60 46 55 41 49 40 42 52\n",
            " 47 50 42 49 41 48 59 55 56 42 50 46 43 48 52 54 42 46 48 50 43 59 43 57\n",
            " 56 40 58 91 29 77 35 95 11 75  9 75 34 71  5 88  7 73 10 72  5 93 40 87\n",
            " 12 97 36 74 22 90 17 88 20 76 16 89  1 78  1 73 35 83  5 93 26 75 20 95\n",
            " 27 63 13 75 10 92 13 86 15 69 14 90 32 86 15 88 39 97 24 68 17 85 23 69\n",
            "  8 91 16 79 28 74 18 83]\n"
          ]
        }
      ]
    },
    {
      "cell_type": "markdown",
      "source": [
        "Проверяет наличие пропущенных значений в загруженных данных с помощью метода isnull() и суммирует количество пропущенных значений в каждом столбце с помощью метода sum()."
      ],
      "metadata": {
        "id": "j7GwaE28VLFV"
      }
    },
    {
      "cell_type": "code",
      "source": [
        "# Обработка пропущенных значений\n",
        "# Проверим, есть ли пропущенные значения в данных\n",
        "print(dataset.isnull().sum())"
      ],
      "metadata": {
        "colab": {
          "base_uri": "https://localhost:8080/"
        },
        "id": "R01RjWZf0Mio",
        "outputId": "140f7d30-d245-4f95-fd9c-93455bcb1b95"
      },
      "execution_count": null,
      "outputs": [
        {
          "output_type": "stream",
          "name": "stdout",
          "text": [
            "CustomerID                0\n",
            "Genre                     0\n",
            "Age                       0\n",
            "Annual Income (k$)        0\n",
            "Spending Score (1-100)    0\n",
            "dtype: int64\n"
          ]
        }
      ]
    },
    {
      "cell_type": "markdown",
      "source": [
        "Использует функцию train_test_split из модуля model_selection библиотеки scikit-learn для разделения данных на обучающий и тестовый наборы.\n",
        "\n",
        "X_train и y_train содержат обучающие признаки и соответствующие обучающие метки соответственно.\n",
        "X_test и y_test содержат тестовые признаки и соответствующие тестовые метки соответственно.\n",
        "Параметр test_size задает размер тестового набора в долях от общего числа наблюдений. В данном случае он равен 1/4, что означает, что 25% данных будут выделены для тестирования.\n",
        "\n",
        "Параметр random_state используется для установки начального состояния генератора случайных чисел, что обеспечивает воспроизводимость разделения данных. Установив его на некоторое фиксированное значение (в данном случае 0), мы можем получить одинаковые результаты при каждом запуске кода."
      ],
      "metadata": {
        "id": "8U7dg67pVab6"
      }
    },
    {
      "cell_type": "code",
      "source": [
        "from sklearn.model_selection import train_test_split\n",
        "X_train, X_test, y_train, y_test = train_test_split(X, y, test_size = 1/4, random_state = 0)"
      ],
      "metadata": {
        "id": "q1CCO5OJ0v-A"
      },
      "execution_count": null,
      "outputs": []
    },
    {
      "cell_type": "markdown",
      "source": [
        "Выполняет кодирование категориальных признаков, используя метод One-Hot Encoding, с помощью библиотеки scikit-learn.\n",
        "\n",
        "Сначала создается ColumnTransformer, который определяет преобразования, применяемые к столбцам данных. В этом случае используется One-Hot Encoding для столбца 'Genre', который находится на позиции 1 (индекс 1) в массиве X.\n",
        "\n",
        "Метод fit_transform применяется к X_train, чтобы обучить преобразование One-Hot Encoding и применить его к обучающему набору данных, возвращая преобразованные данные X_train_encoded.\n",
        "\n",
        "Метод transform применяется к X_test, чтобы применить ранее обученное преобразование к тестовому набору данных, возвращая преобразованные данные X_test_encoded."
      ],
      "metadata": {
        "id": "oIHkFpWKVf-u"
      }
    },
    {
      "cell_type": "code",
      "source": [
        "from sklearn.preprocessing import OneHotEncoder\n",
        "from sklearn.compose import ColumnTransformer\n",
        "\n",
        "column_transformer = ColumnTransformer([('encoder', OneHotEncoder(), [1])], remainder='passthrough')\n",
        "\n",
        "X_train_encoded = column_transformer.fit_transform(X_train)\n",
        "X_test_encoded = column_transformer.transform(X_test)\n",
        "\n",
        "regressor.fit(X_train_encoded, y_train)"
      ],
      "metadata": {
        "colab": {
          "base_uri": "https://localhost:8080/",
          "height": 75
        },
        "id": "d514d9UF1QTf",
        "outputId": "f9bcea89-a587-40a7-c818-41a00bf8ecdf"
      },
      "execution_count": null,
      "outputs": [
        {
          "output_type": "execute_result",
          "data": {
            "text/plain": [
              "LinearRegression()"
            ],
            "text/html": [
              "<style>#sk-container-id-1 {color: black;background-color: white;}#sk-container-id-1 pre{padding: 0;}#sk-container-id-1 div.sk-toggleable {background-color: white;}#sk-container-id-1 label.sk-toggleable__label {cursor: pointer;display: block;width: 100%;margin-bottom: 0;padding: 0.3em;box-sizing: border-box;text-align: center;}#sk-container-id-1 label.sk-toggleable__label-arrow:before {content: \"▸\";float: left;margin-right: 0.25em;color: #696969;}#sk-container-id-1 label.sk-toggleable__label-arrow:hover:before {color: black;}#sk-container-id-1 div.sk-estimator:hover label.sk-toggleable__label-arrow:before {color: black;}#sk-container-id-1 div.sk-toggleable__content {max-height: 0;max-width: 0;overflow: hidden;text-align: left;background-color: #f0f8ff;}#sk-container-id-1 div.sk-toggleable__content pre {margin: 0.2em;color: black;border-radius: 0.25em;background-color: #f0f8ff;}#sk-container-id-1 input.sk-toggleable__control:checked~div.sk-toggleable__content {max-height: 200px;max-width: 100%;overflow: auto;}#sk-container-id-1 input.sk-toggleable__control:checked~label.sk-toggleable__label-arrow:before {content: \"▾\";}#sk-container-id-1 div.sk-estimator input.sk-toggleable__control:checked~label.sk-toggleable__label {background-color: #d4ebff;}#sk-container-id-1 div.sk-label input.sk-toggleable__control:checked~label.sk-toggleable__label {background-color: #d4ebff;}#sk-container-id-1 input.sk-hidden--visually {border: 0;clip: rect(1px 1px 1px 1px);clip: rect(1px, 1px, 1px, 1px);height: 1px;margin: -1px;overflow: hidden;padding: 0;position: absolute;width: 1px;}#sk-container-id-1 div.sk-estimator {font-family: monospace;background-color: #f0f8ff;border: 1px dotted black;border-radius: 0.25em;box-sizing: border-box;margin-bottom: 0.5em;}#sk-container-id-1 div.sk-estimator:hover {background-color: #d4ebff;}#sk-container-id-1 div.sk-parallel-item::after {content: \"\";width: 100%;border-bottom: 1px solid gray;flex-grow: 1;}#sk-container-id-1 div.sk-label:hover label.sk-toggleable__label {background-color: #d4ebff;}#sk-container-id-1 div.sk-serial::before {content: \"\";position: absolute;border-left: 1px solid gray;box-sizing: border-box;top: 0;bottom: 0;left: 50%;z-index: 0;}#sk-container-id-1 div.sk-serial {display: flex;flex-direction: column;align-items: center;background-color: white;padding-right: 0.2em;padding-left: 0.2em;position: relative;}#sk-container-id-1 div.sk-item {position: relative;z-index: 1;}#sk-container-id-1 div.sk-parallel {display: flex;align-items: stretch;justify-content: center;background-color: white;position: relative;}#sk-container-id-1 div.sk-item::before, #sk-container-id-1 div.sk-parallel-item::before {content: \"\";position: absolute;border-left: 1px solid gray;box-sizing: border-box;top: 0;bottom: 0;left: 50%;z-index: -1;}#sk-container-id-1 div.sk-parallel-item {display: flex;flex-direction: column;z-index: 1;position: relative;background-color: white;}#sk-container-id-1 div.sk-parallel-item:first-child::after {align-self: flex-end;width: 50%;}#sk-container-id-1 div.sk-parallel-item:last-child::after {align-self: flex-start;width: 50%;}#sk-container-id-1 div.sk-parallel-item:only-child::after {width: 0;}#sk-container-id-1 div.sk-dashed-wrapped {border: 1px dashed gray;margin: 0 0.4em 0.5em 0.4em;box-sizing: border-box;padding-bottom: 0.4em;background-color: white;}#sk-container-id-1 div.sk-label label {font-family: monospace;font-weight: bold;display: inline-block;line-height: 1.2em;}#sk-container-id-1 div.sk-label-container {text-align: center;}#sk-container-id-1 div.sk-container {/* jupyter's `normalize.less` sets `[hidden] { display: none; }` but bootstrap.min.css set `[hidden] { display: none !important; }` so we also need the `!important` here to be able to override the default hidden behavior on the sphinx rendered scikit-learn.org. See: https://github.com/scikit-learn/scikit-learn/issues/21755 */display: inline-block !important;position: relative;}#sk-container-id-1 div.sk-text-repr-fallback {display: none;}</style><div id=\"sk-container-id-1\" class=\"sk-top-container\"><div class=\"sk-text-repr-fallback\"><pre>LinearRegression()</pre><b>In a Jupyter environment, please rerun this cell to show the HTML representation or trust the notebook. <br />On GitHub, the HTML representation is unable to render, please try loading this page with nbviewer.org.</b></div><div class=\"sk-container\" hidden><div class=\"sk-item\"><div class=\"sk-estimator sk-toggleable\"><input class=\"sk-toggleable__control sk-hidden--visually\" id=\"sk-estimator-id-1\" type=\"checkbox\" checked><label for=\"sk-estimator-id-1\" class=\"sk-toggleable__label sk-toggleable__label-arrow\">LinearRegression</label><div class=\"sk-toggleable__content\"><pre>LinearRegression()</pre></div></div></div></div></div>"
            ]
          },
          "metadata": {},
          "execution_count": 19
        }
      ]
    },
    {
      "cell_type": "markdown",
      "source": [
        "Использует ранее обученное преобразование column_transformer, чтобы применить его к тестовому набору данных X_test. Результат преобразования сохраняется в X_test_encoded.\n",
        "\n",
        "Затем модель regressor используется для предсказания целевых переменных на основе преобразованных тестовых данных X_test_encoded. Предсказанные значения сохраняются в переменной y_pred.\n",
        "\n",
        "Наконец, код выводит предсказанные значения, позволяя пользователю оценить производительность модели на тестовых данных."
      ],
      "metadata": {
        "id": "zT1_95HyWACF"
      }
    },
    {
      "cell_type": "code",
      "source": [
        "X_test_encoded = column_transformer.transform(X_test)\n",
        "\n",
        "y_pred = regressor.predict(X_test_encoded)\n",
        "\n",
        "print(y_pred)"
      ],
      "metadata": {
        "colab": {
          "base_uri": "https://localhost:8080/"
        },
        "id": "MNveeBc65zwv",
        "outputId": "daeb3d68-85b4-448b-82d7-25ae23ba4c83"
      },
      "execution_count": null,
      "outputs": [
        {
          "output_type": "stream",
          "name": "stdout",
          "text": [
            "[43.21845763 47.87292723 41.13470854 44.02108949 54.54588902 44.08789227\n",
            " 60.97614027 44.06591871 42.8627461  48.73386182 58.82311622 55.11214496\n",
            " 51.1794662  47.30711682 39.6057579  60.43920276 59.71137784 44.62734169\n",
            " 56.282416   38.37230082 55.1922259  54.0523188  59.03443132 56.02075032\n",
            " 33.22114015 48.59320131 50.04951044 52.11060985 50.59814052 46.46481835\n",
            " 54.43267142 44.89534198 46.61343881 61.37693121 48.69921903 51.35107047\n",
            " 49.1000497  56.42644306 47.77961234 37.62595567 58.08956398 49.30503019\n",
            " 49.01639624 58.79655989 52.34559551 43.78853628 37.26930272 54.95187167\n",
            " 45.15583399 54.62771118]\n"
          ]
        }
      ]
    },
    {
      "cell_type": "markdown",
      "source": [
        "Создает точечную диаграмму, чтобы визуализировать соотношение между фактическими значениями (y_test) и предсказанными значениями (y_pred).\n",
        "\n",
        "plt.scatter(y_test, y_pred, color='red') создает точки на диаграмме, где по оси x располагаются фактические значения (y_test), а по оси y - предсказанные значения (y_pred). Они обозначаются красным цветом.\n",
        "\n",
        "plt.plot([y_test.min(), y_test.max()], [y_test.min(), y_test.max()], color='blue', lw=2) рисует линию, представляющую идеальное соответствие между фактическими и предсказанными значениями. Эта линия имеет цвет синий.\n",
        "\n",
        "plt.title('Actual vs Predicted') устанавливает заголовок диаграммы.\n",
        "\n",
        "plt.xlabel('Actual') и plt.ylabel('Predicted') устанавливают подписи осей x и y соответственно.\n",
        "\n",
        "plt.show() отображает диаграмму."
      ],
      "metadata": {
        "id": "5cKzQe5LWK39"
      }
    },
    {
      "cell_type": "code",
      "source": [
        "plt.scatter(y_test, y_pred, color = 'red')\n",
        "plt.plot([y_test.min(), y_test.max()], [y_test.min(), y_test.max()], color = 'blue', lw = 2)\n",
        "plt.title('Actual vs Predicted')\n",
        "plt.xlabel('Actual')\n",
        "plt.ylabel('Predicted')\n",
        "plt.show()"
      ],
      "metadata": {
        "colab": {
          "base_uri": "https://localhost:8080/",
          "height": 472
        },
        "id": "oOUN6fsX6TnP",
        "outputId": "b98ff47b-e17d-48bc-b3ca-d6762849a7d3"
      },
      "execution_count": null,
      "outputs": [
        {
          "output_type": "display_data",
          "data": {
            "text/plain": [
              "<Figure size 640x480 with 1 Axes>"
            ],
            "image/png": "[encoded data removed]"
          },
          "metadata": {}
        }
      ]
    },
    {
      "cell_type": "markdown",
      "source": [
        "Применяет объект ColumnTransformer, который, вероятно, был предварительно подготовлен для кодирования признаков входных данных, к обучающим данным X_train. Затем он использует преобразованные данные для предсказания целевой переменной с использованием обученного регрессора regressor. После этого он выводит предсказанные значения y_pred_new."
      ],
      "metadata": {
        "id": "IXA0QnbyWjot"
      }
    },
    {
      "cell_type": "code",
      "source": [
        "X_train_encoded = column_transformer.transform(X_train)\n",
        "\n",
        "y_pred_new = regressor.predict(X_train_encoded)\n",
        "\n",
        "print(y_pred_new)"
      ],
      "metadata": {
        "colab": {
          "base_uri": "https://localhost:8080/"
        },
        "id": "fwaY7nimACTI",
        "outputId": "c5055872-8495-48cc-f442-e920a7a58bc0"
      },
      "execution_count": null,
      "outputs": [
        {
          "output_type": "stream",
          "name": "stdout",
          "text": [
            "[47.37984228 59.08360824 49.10310171 57.16609484 51.08614682 44.42820442\n",
            " 38.88166112 42.91419984 38.40360617 45.36085421 48.67579417 47.10270555\n",
            " 53.72418448 54.32279127 51.77982483 43.90280386 45.89779172 55.33543806\n",
            " 51.87147184 43.04584759 53.19536253 36.45828049 52.19011096 46.06732513\n",
            " 55.5175584  45.55487309 35.19676093 50.92119619 51.52265964 52.11872541\n",
            " 52.96472456 45.92788084 58.63210514 50.16768916 34.15577686 37.23386012\n",
            " 61.97582792 41.70380604 48.68135809 48.52764215 55.44872898 35.84255772\n",
            " 44.11425774 40.82796795 44.51764454 37.98114221 55.50984415 46.47834222\n",
            " 50.49593488 51.77909387 51.43259824 53.43303862 46.35774003 59.96808688\n",
            " 54.54438736 35.73650027 56.0481613  36.65846774 53.92351709 56.44845635\n",
            " 54.93420607 55.56701461 56.53100948 44.30943353 59.94356168 56.48630228\n",
            " 53.71170611 42.4385454  56.16153451 51.70392535 58.47836181 59.11576822\n",
            " 43.63813039 55.34445247 59.06119363 48.01139486 60.51058831 39.28927193\n",
            " 42.85487623 47.32663497 54.38577134 58.86721448 60.3492253  51.78749935\n",
            " 57.37050612 53.92635865 49.85187483 59.01433328 48.36761904 54.46556237\n",
            " 45.69557333 34.53873596 60.82931139 33.83226504 59.25297541 59.00409201\n",
            " 54.71801828 58.76720173 44.34439534 60.25615611 58.16371162 49.99338998\n",
            " 59.4451585  52.97539625 55.19473782 38.80341596 55.94376112 38.53541567\n",
            " 46.75596421 51.48692713 61.76829579 48.65691235 61.01337892 46.82914134\n",
            " 48.02057103 38.96880764 42.12931753 56.59419552 51.84439051 54.66900761\n",
            " 60.04658223 58.09443667 34.67029976 46.12189972 61.30554566 53.59233076\n",
            " 49.37573961 40.78947335 48.01143459 54.45313885 52.45547567 49.16790246\n",
            " 48.8063522  44.44396539 52.39205455 61.03380661 57.24235308 42.09379099\n",
            " 53.53629424 33.26804023 59.62541844 50.22898458 56.7548673  56.89479684\n",
            " 55.12826469 36.81240642 49.29879014 46.34519282 57.49500434 49.95489538]\n"
          ]
        }
      ]
    },
    {
      "cell_type": "code",
      "source": [
        "plt.scatter(y_train, y_pred_new, color='red')\n",
        "plt.plot([y_train.min(), y_train.max()], [y_train.min(), y_train.max()], color='blue', lw=2)\n",
        "plt.title('Actual vs Predicted Spending Score (Training Data)')\n",
        "plt.xlabel('Actual Spending Score')\n",
        "plt.ylabel('Predicted Spending Score')\n",
        "plt.show()"
      ],
      "metadata": {
        "colab": {
          "base_uri": "https://localhost:8080/",
          "height": 472
        },
        "id": "W_AF4qA2Aa6M",
        "outputId": "939472cc-e726-46af-c71e-b1e681d38988"
      },
      "execution_count": null,
      "outputs": [
        {
          "output_type": "display_data",
          "data": {
            "text/plain": [
              "<Figure size 640x480 with 1 Axes>"
            ],
            "image/png": "[encoded data removed]"
          },
          "metadata": {}
        }
      ]
    },
    {
      "cell_type": "markdown",
      "source": [
        "# **Вывод**\n",
        "\n",
        "Импортируются необходимые библиотеки, включая NumPy, Matplotlib и Pandas.\n",
        "\n",
        "Загружается набор данных о покупках клиентов из файла CSV.\n",
        "\n",
        "Разделяется набор данных на признаки (X) и целевую переменную (y), которая представляет собой расходы клиентов.\n",
        "\n",
        "Обрабатываются пропущенные значения в наборе данных.\n",
        "\n",
        "Разделяется набор данных на обучающий и тестовый наборы с помощью функции train_test_split.\n",
        "\n",
        "Применяется преобразователь столбцов для кодирования категориальных признаков с помощью OneHotEncoder.\n",
        "\n",
        "Обучается модель регрессии на обучающем наборе данных.\n",
        "\n",
        "Кодируется тестовый набор данных с использованием того же преобразователя столбцов.\n",
        "\n",
        "Делаются прогнозы для тестового набора данных с помощью обученной модели.\n",
        "\n",
        "Оценивается модель, сравнивая фактические расходы с прогнозируемыми расходами.\n",
        "\n",
        "Отображается график рассеяния, показывающий фактические и прогнозируемые расходы.\n",
        "\n",
        "Повторяются шаги 6-11 с использованием обучающего набора данных, чтобы оценить производительность модели на данных, которые использовались для ее обучения.\n",
        "\n",
        "В целом, этот код демонстрирует процесс обучения и оценки модели машинного обучения для прогнозирования расходов клиентов на основе их демографических данных."
      ],
      "metadata": {
        "id": "x2_N7vyIGtka"
      }
    },
    {
      "cell_type": "markdown",
      "source": [
        "\n",
        "\n",
        "### 1. Почему при реализации многомерной линейной регрессии необходимо добавить фиктивный признак с единственным значением 1.0?\n",
        "\n",
        "Добавление фиктивного признака с единственным значением 1.0 (интерсепта) необходимо для того, чтобы модель могла учитывать постоянное смещение. Этот признак позволяет модели иметь возможность перемещаться вверх или вниз по оси Y, что улучшает ее способность подстраиваться под данные. Без этого признака модель будет вынуждена проходить через начало координат, что может привести к неадекватному описанию зависимости.\n",
        "\n",
        "### 2. Что такое фиктивная переменная? Поясните причину удаления одной фиктивной переменной, возникающей при перекодировке категориального признака.\n",
        "\n",
        "**Фиктивная переменная** — это бинарная переменная, используемая для представления категориальных данных в числовом формате. Каждая категория представляется отдельной переменной, принимающей значения 0 или 1.\n",
        "\n",
        "При перекодировке категориального признака с \\( n \\) категориями создается \\( n \\) фиктивных переменных. Однако одну из них обычно удаляют, чтобы избежать **мультиколлинеарности**. Это происходит потому, что наличие всех \\( n \\) фиктивных переменных приводит к линейной зависимости между ними, что может исказить результаты регрессии.\n",
        "\n",
        "### 3. С использованием какого класса создается модель полиномиальной регрессии?\n",
        "\n",
        "В Python для создания модели полиномиальной регрессии обычно используется класс `PolynomialFeatures` из библиотеки `sklearn.preprocessing`, который позволяет генерировать полиномиальные и взаимодействующие признаки. Затем эти признаки можно использовать в модели линейной регрессии, например, с классом `LinearRegression` из `sklearn.linear_model`.\n",
        "\n",
        "### 4. Поясните принцип преобразования признаков при построении полиномиальной регрессии.\n",
        "\n",
        "При построении полиномиальной регрессии происходит следующее преобразование признаков:\n",
        "\n",
        "1. **Генерация полиномиальных признаков**: Используя класс `PolynomialFeatures`, исходные признаки преобразуются в полиномиальные, добавляя все возможные комбинации признаков до заданной степени. Например, для признака \\( x \\) и степени 2 будут созданы признаки \\( x \\) и \\( x^2 \\).\n",
        "\n",
        "2. **Взаимодействие признаков**: Если есть несколько признаков, также могут быть добавлены взаимодействия между ними (например, \\( x_1 \\times x_2 \\)).\n",
        "\n",
        "Эти новые признаки затем используются для обучения модели линейной регрессии, что позволяет модели учитывать нелинейные зависимости.\n",
        "\n",
        "### 5. Возможно ли применение технологий масштабирования признаков при реализации полиномиальной регрессии?\n",
        "\n",
        "Да, применение технологий масштабирования признаков возможно и рекомендуется при реализации полиномиальной регрессии. Масштабирование (например, с использованием стандартизации или нормализации) помогает улучшить сходимость алгоритмов оптимизации и предотвращает проблемы, связанные с различиями в масштабах признаков. Это особенно важно, когда используются полиномиальные признаки, так как их значения могут значительно варьироваться."
      ],
      "metadata": {
        "id": "bZcxHbH33dsf"
      }
    }
  ]
}