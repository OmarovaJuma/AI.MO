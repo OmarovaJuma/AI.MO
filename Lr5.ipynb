{
  "nbformat": 4,
  "nbformat_minor": 0,
  "metadata": {
    "colab": {
      "provenance": [],
      "toc_visible": true,
      "authorship_tag": "ABX9TyOXi9hfFrRwDlc8oWAexTvb",
      "include_colab_link": true
    },
    "kernelspec": {
      "name": "python3",
      "display_name": "Python 3"
    },
    "language_info": {
      "name": "python"
    }
  },
  "cells": [
    {
      "cell_type": "markdown",
      "metadata": {
        "id": "view-in-github",
        "colab_type": "text"
      },
      "source": [
        "<a href=\"https://colab.research.google.com/github/OmarovaJuma/AI.MO/blob/main/Lr5.ipynb\" target=\"_parent\"><img src=\"https://colab.research.google.com/assets/colab-badge.svg\" alt=\"Open In Colab\"/></a>"
      ]
    },
    {
      "cell_type": "markdown",
      "source": [
        "РАЗРАБОТКА ЕДИНОГО\n",
        "ПОДХОДА К ПРЕДВАРИТЕЛЬНОЙ ОБРАБОТКИ ДАННЫХ\n",
        "\n",
        "Выполнила работу Омарова Джума группа\n"
      ],
      "metadata": {
        "id": "Ia_42kYY3eNw"
      }
    },
    {
      "cell_type": "markdown",
      "source": [
        "## **Первичный анализ**\n",
        "\n",
        "###Описание и назначение:\n",
        "\n",
        "Набор данных Apple Quality содержит информацию о различных характеристиках набора фруктов, предоставляя сведения об их особенностях. В набор данных входят такие сведения, как идентификатор фрукта, размер, вес, сладость, хрусткость, сочность, спелость, кислотность и качество.\n",
        "\n",
        "Набор данных может использоваться для различных задач, включая:\n",
        "\n",
        "1.   Классификация фруктов: разработка модели классификации для категоризации фруктов на основе их характеристик.\n",
        "2.   Прогнозирование качества: построение модели для прогнозирования рейтинга качества фруктов с использованием различных атрибутов.\n",
        "\n",
        "###Описание признаков:\n",
        "\n",
        "Набор данных содержит следующие признаки (Признак-Тип-Описание):\n",
        "\n",
        "A_id - исловой - Уникальный идентификатор для каждого фрукта\n",
        "\n",
        "Size - Числовой - Размер фрукта\n",
        "\n",
        "Weight - Числовой - Вес фрукта\n",
        "\n",
        "Sweetness - Числовой - Степень сладости фрукта\n",
        "\n",
        "Crunchiness - Числовой - Текстура, указывающая на хрусткость фрукта\n",
        "\n",
        "Juiciness - Числовой - Уровень сочности фрукта\n",
        "\n",
        "Ripeness - Категориальный - Стадия спелости фрукта\n",
        "\n",
        "Acidity - Числовой - Уровень кислотности фрукта\n",
        "\n",
        "Quality - Категориальный - Общее качество фрукта\n",
        "\n",
        "\n",
        "###Форма набора данных\n",
        "\n",
        "Краткая сводка:\n",
        "\n",
        "Количество элементов набора: 596\n",
        "\n",
        "Количество признаков: 9\n",
        "\n",
        "Количество пропущенных значений: 0\n"
      ],
      "metadata": {
        "id": "Rh8KY0eGgIS1"
      }
    },
    {
      "cell_type": "markdown",
      "source": [
        "### Статистические показатели"
      ],
      "metadata": {
        "id": "qJV8meR8jzA0"
      }
    },
    {
      "cell_type": "markdown",
      "source": [
        "*Расчет статистических показателей:*\n",
        "\n",
        "Функция describe() рассчитывает статистические показатели по каждому столбцу в датафрейме data. Она вычисляет показатели, такие как среднее, медиана, стандартное отклонение, минимум, максимум и т. д. Это полезно для понимания распределения и центральных тенденций данных.\n",
        "\n",
        "*Вывод статистических показателей:*\n",
        "\n",
        "Результат вызова функции describe() сохраняется в переменной stats.\n",
        "Функция print() используется для вывода статистических показателей в консоль. Это позволяет исследователю данных просмотреть показатели и получить представление о свойствах данных."
      ],
      "metadata": {
        "id": "4O5jvfrhkL4M"
      }
    },
    {
      "cell_type": "code",
      "source": [
        "# Рассчитать статистические показатели\n",
        "stats = data.describe()\n",
        "\n",
        "# Вывести статистические показатели\n",
        "print(stats)"
      ],
      "metadata": {
        "colab": {
          "base_uri": "https://localhost:8080/"
        },
        "id": "9w1jwQzkjeGO",
        "outputId": "400d7d96-3d55-4c08-fe13-05c56897eee4"
      },
      "execution_count": null,
      "outputs": [
        {
          "output_type": "stream",
          "name": "stdout",
          "text": [
            "              A_id         Size       Weight    Sweetness  Crunchiness  \\\n",
            "count  4000.000000  4000.000000  4000.000000  4000.000000  4000.000000   \n",
            "mean   1999.500000    -0.503015    -0.989547    -0.470479     0.985478   \n",
            "std    1154.844867     1.928059     1.602507     1.943441     1.402757   \n",
            "min       0.000000    -7.151703    -7.149848    -6.894485    -6.055058   \n",
            "25%     999.750000    -1.816765    -2.011770    -1.738425     0.062764   \n",
            "50%    1999.500000    -0.513703    -0.984736    -0.504758     0.998249   \n",
            "75%    2999.250000     0.805526     0.030976     0.801922     1.894234   \n",
            "max    3999.000000     6.406367     5.790714     6.374916     7.619852   \n",
            "\n",
            "         Juiciness     Ripeness  \n",
            "count  4000.000000  4000.000000  \n",
            "mean      0.512118     0.498277  \n",
            "std       1.930286     1.874427  \n",
            "min      -5.961897    -5.864599  \n",
            "25%      -0.801286    -0.771677  \n",
            "50%       0.534219     0.503445  \n",
            "75%       1.835976     1.766212  \n",
            "max       7.364403     7.237837  \n"
          ]
        }
      ]
    },
    {
      "cell_type": "markdown",
      "source": [
        "Импорт библиотеки Pandas:\n",
        "\n",
        "Строка import pandas as pd импортирует библиотеку Pandas и присваивает ей алиас pd. Pandas - это мощная библиотека для работы с данными, которая широко используется в области науки о данных для анализа и манипулирования данными.\n",
        "\n",
        "Чтение набора данных:\n",
        "\n",
        "Строка data = pd.read_csv(\"dataset/apple_quality.csv\") читает набор данных из файла CSV, расположенного по пути \"dataset/apple_quality.csv\", и сохраняет его в датафрейме с именем data. Датафрейм - это структура данных Pandas, которая организует данные в виде таблицы с именованными строками и столбцами.\n",
        "\n",
        "Вывод датафрейма:\n",
        "\n",
        "Команда data без каких-либо дополнительных аргументов выводит весь датафрейм в консоль. Это позволяет исследователю данных просмотреть всю таблицу данных, включая все строки и столбцы."
      ],
      "metadata": {
        "id": "50M6cHi4kaVk"
      }
    },
    {
      "cell_type": "code",
      "execution_count": null,
      "metadata": {
        "colab": {
          "base_uri": "https://localhost:8080/",
          "height": 424
        },
        "id": "HAIcNjf_zzhE",
        "outputId": "2b8f4590-120f-4044-ef5d-6a5cdf869bb3"
      },
      "outputs": [
        {
          "output_type": "execute_result",
          "data": {
            "text/plain": [
              "        A_id      Size    Weight  Sweetness  Crunchiness  Juiciness  Ripeness  \\\n",
              "0        0.0 -3.970049 -2.512336   5.346330    -1.012009   1.844900  0.329840   \n",
              "1        1.0 -1.195217 -2.839257   3.664059     1.588232   0.853286  0.867530   \n",
              "2        2.0 -0.292024 -1.351282  -1.738429    -0.342616   2.838636 -0.038033   \n",
              "3        3.0 -0.657196 -2.271627   1.324874    -0.097875   3.637970 -3.413761   \n",
              "4        4.0  1.364217 -1.296612  -0.384658    -0.553006   3.030874 -1.303849   \n",
              "...      ...       ...       ...        ...          ...        ...       ...   \n",
              "3996  3996.0 -0.293118  1.949253  -0.204020    -0.640196   0.024523 -1.087900   \n",
              "3997  3997.0 -2.634515 -2.138247  -2.440461     0.657223   2.199709  4.763859   \n",
              "3998  3998.0 -4.008004 -1.779337   2.366397    -0.200329   2.161435  0.214488   \n",
              "3999  3999.0  0.278540 -1.715505   0.121217    -1.154075   1.266677 -0.776571   \n",
              "4000     NaN       NaN       NaN        NaN          NaN        NaN       NaN   \n",
              "\n",
              "                                Acidity Quality  \n",
              "0                          -0.491590483    good  \n",
              "1                          -0.722809367    good  \n",
              "2                           2.621636473     bad  \n",
              "3                           0.790723217    good  \n",
              "4                           0.501984036    good  \n",
              "...                                 ...     ...  \n",
              "3996                        1.854235285    good  \n",
              "3997                       -1.334611391     bad  \n",
              "3998                       -2.229719806    good  \n",
              "3999                        1.599796456    good  \n",
              "4000  Created_by_Nidula_Elgiriyewithana     NaN  \n",
              "\n",
              "[4001 rows x 9 columns]"
            ],
            "text/html": [
              "\n",
              "  <div id=\"df-c1329884-5cad-48d1-ad35-feacbcf63043\" class=\"colab-df-container\">\n",
              "    <div>\n",
              "<style scoped>\n",
              "    .dataframe tbody tr th:only-of-type {\n",
              "        vertical-align: middle;\n",
              "    }\n",
              "\n",
              "    .dataframe tbody tr th {\n",
              "        vertical-align: top;\n",
              "    }\n",
              "\n",
              "    .dataframe thead th {\n",
              "        text-align: right;\n",
              "    }\n",
              "</style>\n",
              "<table border=\"1\" class=\"dataframe\">\n",
              "  <thead>\n",
              "    <tr style=\"text-align: right;\">\n",
              "      <th></th>\n",
              "      <th>A_id</th>\n",
              "      <th>Size</th>\n",
              "      <th>Weight</th>\n",
              "      <th>Sweetness</th>\n",
              "      <th>Crunchiness</th>\n",
              "      <th>Juiciness</th>\n",
              "      <th>Ripeness</th>\n",
              "      <th>Acidity</th>\n",
              "      <th>Quality</th>\n",
              "    </tr>\n",
              "  </thead>\n",
              "  <tbody>\n",
              "    <tr>\n",
              "      <th>0</th>\n",
              "      <td>0.0</td>\n",
              "      <td>-3.970049</td>\n",
              "      <td>-2.512336</td>\n",
              "      <td>5.346330</td>\n",
              "      <td>-1.012009</td>\n",
              "      <td>1.844900</td>\n",
              "      <td>0.329840</td>\n",
              "      <td>-0.491590483</td>\n",
              "      <td>good</td>\n",
              "    </tr>\n",
              "    <tr>\n",
              "      <th>1</th>\n",
              "      <td>1.0</td>\n",
              "      <td>-1.195217</td>\n",
              "      <td>-2.839257</td>\n",
              "      <td>3.664059</td>\n",
              "      <td>1.588232</td>\n",
              "      <td>0.853286</td>\n",
              "      <td>0.867530</td>\n",
              "      <td>-0.722809367</td>\n",
              "      <td>good</td>\n",
              "    </tr>\n",
              "    <tr>\n",
              "      <th>2</th>\n",
              "      <td>2.0</td>\n",
              "      <td>-0.292024</td>\n",
              "      <td>-1.351282</td>\n",
              "      <td>-1.738429</td>\n",
              "      <td>-0.342616</td>\n",
              "      <td>2.838636</td>\n",
              "      <td>-0.038033</td>\n",
              "      <td>2.621636473</td>\n",
              "      <td>bad</td>\n",
              "    </tr>\n",
              "    <tr>\n",
              "      <th>3</th>\n",
              "      <td>3.0</td>\n",
              "      <td>-0.657196</td>\n",
              "      <td>-2.271627</td>\n",
              "      <td>1.324874</td>\n",
              "      <td>-0.097875</td>\n",
              "      <td>3.637970</td>\n",
              "      <td>-3.413761</td>\n",
              "      <td>0.790723217</td>\n",
              "      <td>good</td>\n",
              "    </tr>\n",
              "    <tr>\n",
              "      <th>4</th>\n",
              "      <td>4.0</td>\n",
              "      <td>1.364217</td>\n",
              "      <td>-1.296612</td>\n",
              "      <td>-0.384658</td>\n",
              "      <td>-0.553006</td>\n",
              "      <td>3.030874</td>\n",
              "      <td>-1.303849</td>\n",
              "      <td>0.501984036</td>\n",
              "      <td>good</td>\n",
              "    </tr>\n",
              "    <tr>\n",
              "      <th>...</th>\n",
              "      <td>...</td>\n",
              "      <td>...</td>\n",
              "      <td>...</td>\n",
              "      <td>...</td>\n",
              "      <td>...</td>\n",
              "      <td>...</td>\n",
              "      <td>...</td>\n",
              "      <td>...</td>\n",
              "      <td>...</td>\n",
              "    </tr>\n",
              "    <tr>\n",
              "      <th>3996</th>\n",
              "      <td>3996.0</td>\n",
              "      <td>-0.293118</td>\n",
              "      <td>1.949253</td>\n",
              "      <td>-0.204020</td>\n",
              "      <td>-0.640196</td>\n",
              "      <td>0.024523</td>\n",
              "      <td>-1.087900</td>\n",
              "      <td>1.854235285</td>\n",
              "      <td>good</td>\n",
              "    </tr>\n",
              "    <tr>\n",
              "      <th>3997</th>\n",
              "      <td>3997.0</td>\n",
              "      <td>-2.634515</td>\n",
              "      <td>-2.138247</td>\n",
              "      <td>-2.440461</td>\n",
              "      <td>0.657223</td>\n",
              "      <td>2.199709</td>\n",
              "      <td>4.763859</td>\n",
              "      <td>-1.334611391</td>\n",
              "      <td>bad</td>\n",
              "    </tr>\n",
              "    <tr>\n",
              "      <th>3998</th>\n",
              "      <td>3998.0</td>\n",
              "      <td>-4.008004</td>\n",
              "      <td>-1.779337</td>\n",
              "      <td>2.366397</td>\n",
              "      <td>-0.200329</td>\n",
              "      <td>2.161435</td>\n",
              "      <td>0.214488</td>\n",
              "      <td>-2.229719806</td>\n",
              "      <td>good</td>\n",
              "    </tr>\n",
              "    <tr>\n",
              "      <th>3999</th>\n",
              "      <td>3999.0</td>\n",
              "      <td>0.278540</td>\n",
              "      <td>-1.715505</td>\n",
              "      <td>0.121217</td>\n",
              "      <td>-1.154075</td>\n",
              "      <td>1.266677</td>\n",
              "      <td>-0.776571</td>\n",
              "      <td>1.599796456</td>\n",
              "      <td>good</td>\n",
              "    </tr>\n",
              "    <tr>\n",
              "      <th>4000</th>\n",
              "      <td>NaN</td>\n",
              "      <td>NaN</td>\n",
              "      <td>NaN</td>\n",
              "      <td>NaN</td>\n",
              "      <td>NaN</td>\n",
              "      <td>NaN</td>\n",
              "      <td>NaN</td>\n",
              "      <td>Created_by_Nidula_Elgiriyewithana</td>\n",
              "      <td>NaN</td>\n",
              "    </tr>\n",
              "  </tbody>\n",
              "</table>\n",
              "<p>4001 rows × 9 columns</p>\n",
              "</div>\n",
              "    <div class=\"colab-df-buttons\">\n",
              "\n",
              "  <div class=\"colab-df-container\">\n",
              "    <button class=\"colab-df-convert\" onclick=\"convertToInteractive('df-c1329884-5cad-48d1-ad35-feacbcf63043')\"\n",
              "            title=\"Convert this dataframe to an interactive table.\"\n",
              "            style=\"display:none;\">\n",
              "\n",
              "  <svg xmlns=\"http://www.w3.org/2000/svg\" height=\"24px\" viewBox=\"0 -960 960 960\">\n",
              "    <path d=\"M120-120v-720h720v720H120Zm60-500h600v-160H180v160Zm220 220h160v-160H400v160Zm0 220h160v-160H400v160ZM180-400h160v-160H180v160Zm440 0h160v-160H620v160ZM180-180h160v-160H180v160Zm440 0h160v-160H620v160Z\"/>\n",
              "  </svg>\n",
              "    </button>\n",
              "\n",
              "  <style>\n",
              "    .colab-df-container {\n",
              "      display:flex;\n",
              "      gap: 12px;\n",
              "    }\n",
              "\n",
              "    .colab-df-convert {\n",
              "      background-color: #E8F0FE;\n",
              "      border: none;\n",
              "      border-radius: 50%;\n",
              "      cursor: pointer;\n",
              "      display: none;\n",
              "      fill: #1967D2;\n",
              "      height: 32px;\n",
              "      padding: 0 0 0 0;\n",
              "      width: 32px;\n",
              "    }\n",
              "\n",
              "    .colab-df-convert:hover {\n",
              "      background-color: #E2EBFA;\n",
              "      box-shadow: 0px 1px 2px rgba(60, 64, 67, 0.3), 0px 1px 3px 1px rgba(60, 64, 67, 0.15);\n",
              "      fill: #174EA6;\n",
              "    }\n",
              "\n",
              "    .colab-df-buttons div {\n",
              "      margin-bottom: 4px;\n",
              "    }\n",
              "\n",
              "    [theme=dark] .colab-df-convert {\n",
              "      background-color: #3B4455;\n",
              "      fill: #D2E3FC;\n",
              "    }\n",
              "\n",
              "    [theme=dark] .colab-df-convert:hover {\n",
              "      background-color: #434B5C;\n",
              "      box-shadow: 0px 1px 3px 1px rgba(0, 0, 0, 0.15);\n",
              "      filter: drop-shadow(0px 1px 2px rgba(0, 0, 0, 0.3));\n",
              "      fill: #FFFFFF;\n",
              "    }\n",
              "  </style>\n",
              "\n",
              "    <script>\n",
              "      const buttonEl =\n",
              "        document.querySelector('#df-c1329884-5cad-48d1-ad35-feacbcf63043 button.colab-df-convert');\n",
              "      buttonEl.style.display =\n",
              "        google.colab.kernel.accessAllowed ? 'block' : 'none';\n",
              "\n",
              "      async function convertToInteractive(key) {\n",
              "        const element = document.querySelector('#df-c1329884-5cad-48d1-ad35-feacbcf63043');\n",
              "        const dataTable =\n",
              "          await google.colab.kernel.invokeFunction('convertToInteractive',\n",
              "                                                    [key], {});\n",
              "        if (!dataTable) return;\n",
              "\n",
              "        const docLinkHtml = 'Like what you see? Visit the ' +\n",
              "          '<a target=\"_blank\" href=https://colab.research.google.com/notebooks/data_table.ipynb>data table notebook</a>'\n",
              "          + ' to learn more about interactive tables.';\n",
              "        element.innerHTML = '';\n",
              "        dataTable['output_type'] = 'display_data';\n",
              "        await google.colab.output.renderOutput(dataTable, element);\n",
              "        const docLink = document.createElement('div');\n",
              "        docLink.innerHTML = docLinkHtml;\n",
              "        element.appendChild(docLink);\n",
              "      }\n",
              "    </script>\n",
              "  </div>\n",
              "\n",
              "\n",
              "<div id=\"df-7bebc09c-6957-479e-882f-9d7f0caaec5d\">\n",
              "  <button class=\"colab-df-quickchart\" onclick=\"quickchart('df-7bebc09c-6957-479e-882f-9d7f0caaec5d')\"\n",
              "            title=\"Suggest charts\"\n",
              "            style=\"display:none;\">\n",
              "\n",
              "<svg xmlns=\"http://www.w3.org/2000/svg\" height=\"24px\"viewBox=\"0 0 24 24\"\n",
              "     width=\"24px\">\n",
              "    <g>\n",
              "        <path d=\"M19 3H5c-1.1 0-2 .9-2 2v14c0 1.1.9 2 2 2h14c1.1 0 2-.9 2-2V5c0-1.1-.9-2-2-2zM9 17H7v-7h2v7zm4 0h-2V7h2v10zm4 0h-2v-4h2v4z\"/>\n",
              "    </g>\n",
              "</svg>\n",
              "  </button>\n",
              "\n",
              "<style>\n",
              "  .colab-df-quickchart {\n",
              "      --bg-color: #E8F0FE;\n",
              "      --fill-color: #1967D2;\n",
              "      --hover-bg-color: #E2EBFA;\n",
              "      --hover-fill-color: #174EA6;\n",
              "      --disabled-fill-color: #AAA;\n",
              "      --disabled-bg-color: #DDD;\n",
              "  }\n",
              "\n",
              "  [theme=dark] .colab-df-quickchart {\n",
              "      --bg-color: #3B4455;\n",
              "      --fill-color: #D2E3FC;\n",
              "      --hover-bg-color: #434B5C;\n",
              "      --hover-fill-color: #FFFFFF;\n",
              "      --disabled-bg-color: #3B4455;\n",
              "      --disabled-fill-color: #666;\n",
              "  }\n",
              "\n",
              "  .colab-df-quickchart {\n",
              "    background-color: var(--bg-color);\n",
              "    border: none;\n",
              "    border-radius: 50%;\n",
              "    cursor: pointer;\n",
              "    display: none;\n",
              "    fill: var(--fill-color);\n",
              "    height: 32px;\n",
              "    padding: 0;\n",
              "    width: 32px;\n",
              "  }\n",
              "\n",
              "  .colab-df-quickchart:hover {\n",
              "    background-color: var(--hover-bg-color);\n",
              "    box-shadow: 0 1px 2px rgba(60, 64, 67, 0.3), 0 1px 3px 1px rgba(60, 64, 67, 0.15);\n",
              "    fill: var(--button-hover-fill-color);\n",
              "  }\n",
              "\n",
              "  .colab-df-quickchart-complete:disabled,\n",
              "  .colab-df-quickchart-complete:disabled:hover {\n",
              "    background-color: var(--disabled-bg-color);\n",
              "    fill: var(--disabled-fill-color);\n",
              "    box-shadow: none;\n",
              "  }\n",
              "\n",
              "  .colab-df-spinner {\n",
              "    border: 2px solid var(--fill-color);\n",
              "    border-color: transparent;\n",
              "    border-bottom-color: var(--fill-color);\n",
              "    animation:\n",
              "      spin 1s steps(1) infinite;\n",
              "  }\n",
              "\n",
              "  @keyframes spin {\n",
              "    0% {\n",
              "      border-color: transparent;\n",
              "      border-bottom-color: var(--fill-color);\n",
              "      border-left-color: var(--fill-color);\n",
              "    }\n",
              "    20% {\n",
              "      border-color: transparent;\n",
              "      border-left-color: var(--fill-color);\n",
              "      border-top-color: var(--fill-color);\n",
              "    }\n",
              "    30% {\n",
              "      border-color: transparent;\n",
              "      border-left-color: var(--fill-color);\n",
              "      border-top-color: var(--fill-color);\n",
              "      border-right-color: var(--fill-color);\n",
              "    }\n",
              "    40% {\n",
              "      border-color: transparent;\n",
              "      border-right-color: var(--fill-color);\n",
              "      border-top-color: var(--fill-color);\n",
              "    }\n",
              "    60% {\n",
              "      border-color: transparent;\n",
              "      border-right-color: var(--fill-color);\n",
              "    }\n",
              "    80% {\n",
              "      border-color: transparent;\n",
              "      border-right-color: var(--fill-color);\n",
              "      border-bottom-color: var(--fill-color);\n",
              "    }\n",
              "    90% {\n",
              "      border-color: transparent;\n",
              "      border-bottom-color: var(--fill-color);\n",
              "    }\n",
              "  }\n",
              "</style>\n",
              "\n",
              "  <script>\n",
              "    async function quickchart(key) {\n",
              "      const quickchartButtonEl =\n",
              "        document.querySelector('#' + key + ' button');\n",
              "      quickchartButtonEl.disabled = true;  // To prevent multiple clicks.\n",
              "      quickchartButtonEl.classList.add('colab-df-spinner');\n",
              "      try {\n",
              "        const charts = await google.colab.kernel.invokeFunction(\n",
              "            'suggestCharts', [key], {});\n",
              "      } catch (error) {\n",
              "        console.error('Error during call to suggestCharts:', error);\n",
              "      }\n",
              "      quickchartButtonEl.classList.remove('colab-df-spinner');\n",
              "      quickchartButtonEl.classList.add('colab-df-quickchart-complete');\n",
              "    }\n",
              "    (() => {\n",
              "      let quickchartButtonEl =\n",
              "        document.querySelector('#df-7bebc09c-6957-479e-882f-9d7f0caaec5d button');\n",
              "      quickchartButtonEl.style.display =\n",
              "        google.colab.kernel.accessAllowed ? 'block' : 'none';\n",
              "    })();\n",
              "  </script>\n",
              "</div>\n",
              "    </div>\n",
              "  </div>\n"
            ],
            "application/vnd.google.colaboratory.intrinsic+json": {
              "type": "dataframe",
              "variable_name": "data",
              "summary": "{\n  \"name\": \"data\",\n  \"rows\": 4001,\n  \"fields\": [\n    {\n      \"column\": \"A_id\",\n      \"properties\": {\n        \"dtype\": \"number\",\n        \"std\": 1154.8448669265786,\n        \"min\": 0.0,\n        \"max\": 3999.0,\n        \"num_unique_values\": 4000,\n        \"samples\": [\n          555.0,\n          3491.0,\n          527.0\n        ],\n        \"semantic_type\": \"\",\n        \"description\": \"\"\n      }\n    },\n    {\n      \"column\": \"Size\",\n      \"properties\": {\n        \"dtype\": \"number\",\n        \"std\": 1.928058688854979,\n        \"min\": -7.151703059,\n        \"max\": 6.406366899,\n        \"num_unique_values\": 4000,\n        \"samples\": [\n          3.099410637,\n          1.439787602,\n          1.20678634\n        ],\n        \"semantic_type\": \"\",\n        \"description\": \"\"\n      }\n    },\n    {\n      \"column\": \"Weight\",\n      \"properties\": {\n        \"dtype\": \"number\",\n        \"std\": 1.6025072141517547,\n        \"min\": -7.149847675,\n        \"max\": 5.79071359,\n        \"num_unique_values\": 4000,\n        \"samples\": [\n          -1.691560679,\n          -0.223976263,\n          -0.508979201\n        ],\n        \"semantic_type\": \"\",\n        \"description\": \"\"\n      }\n    },\n    {\n      \"column\": \"Sweetness\",\n      \"properties\": {\n        \"dtype\": \"number\",\n        \"std\": 1.943440658920452,\n        \"min\": -6.894485494,\n        \"max\": 6.374915513,\n        \"num_unique_values\": 4000,\n        \"samples\": [\n          -3.679364,\n          -0.061448613,\n          1.736206944\n        ],\n        \"semantic_type\": \"\",\n        \"description\": \"\"\n      }\n    },\n    {\n      \"column\": \"Crunchiness\",\n      \"properties\": {\n        \"dtype\": \"number\",\n        \"std\": 1.402757204211963,\n        \"min\": -6.055057805,\n        \"max\": 7.619851801,\n        \"num_unique_values\": 4000,\n        \"samples\": [\n          0.963605627,\n          1.412704629,\n          1.301010753\n        ],\n        \"semantic_type\": \"\",\n        \"description\": \"\"\n      }\n    },\n    {\n      \"column\": \"Juiciness\",\n      \"properties\": {\n        \"dtype\": \"number\",\n        \"std\": 1.9302856730942946,\n        \"min\": -5.961897048,\n        \"max\": 7.364402864,\n        \"num_unique_values\": 4000,\n        \"samples\": [\n          0.538102393,\n          0.885640988,\n          -0.556148589\n        ],\n        \"semantic_type\": \"\",\n        \"description\": \"\"\n      }\n    },\n    {\n      \"column\": \"Ripeness\",\n      \"properties\": {\n        \"dtype\": \"number\",\n        \"std\": 1.8744267757033417,\n        \"min\": -5.864598918,\n        \"max\": 7.237836684,\n        \"num_unique_values\": 4000,\n        \"samples\": [\n          1.660099378,\n          -2.191810607,\n          -1.332051678\n        ],\n        \"semantic_type\": \"\",\n        \"description\": \"\"\n      }\n    },\n    {\n      \"column\": \"Acidity\",\n      \"properties\": {\n        \"dtype\": \"string\",\n        \"num_unique_values\": 4001,\n        \"samples\": [\n          \"-0.544761148\",\n          \"0.766026809\",\n          \"1.009155619\"\n        ],\n        \"semantic_type\": \"\",\n        \"description\": \"\"\n      }\n    },\n    {\n      \"column\": \"Quality\",\n      \"properties\": {\n        \"dtype\": \"category\",\n        \"num_unique_values\": 2,\n        \"samples\": [\n          \"bad\",\n          \"good\"\n        ],\n        \"semantic_type\": \"\",\n        \"description\": \"\"\n      }\n    }\n  ]\n}"
            }
          },
          "metadata": {},
          "execution_count": 5
        }
      ],
      "source": [
        "import pandas as pd\n",
        "\n",
        "data = pd.read_csv(\"dataset/apple_quality.csv\")\n",
        "\n",
        "data"
      ]
    },
    {
      "cell_type": "markdown",
      "source": [
        "Создание новых признаков:\n",
        "\n",
        "Строка data[\"Size_Weight\"] = data[\"Size\"] + data[\"Weight\"] создает новый столбец в датафрейме data с именем \"Size_Weight\". Новый столбец содержит значения, которые являются суммой значений существующих столбцов \"Size\" и \"Weight\".\n",
        "\n",
        "Строка data[\"Sweetness_Crunchiness\"] = data[\"Sweetness\"] + data[\"Crunchiness\"] создает новый столбец в датафрейме data с именем \"Sweetness_Crunchiness\". Новый столбец содержит значения, которые являются суммой значений существующих столбцов \"Sweetness\" и \"Crunchiness\".\n",
        "\n",
        "Вывод датафрейма:\n",
        "\n",
        "Команда data без каких-либо дополнительных аргументов выводит весь датафрейм в консоль. Это позволяет исследователю данных просмотреть всю таблицу данных, включая все строки и столбцы, а также два новых созданных столбца."
      ],
      "metadata": {
        "id": "Eck0hu_wks0E"
      }
    },
    {
      "cell_type": "markdown",
      "source": [
        "Предварительная обработка данных:\n",
        "\n",
        "Строка data = data[data[\"Acidity\"] != \"Created_by_Nidula_Elgiriyewithana\"] фильтрует датафрейм data, удаляя все строки, в которых значение столбца \"Acidity\" равно строке \"Created_by_Nidula_Elgiriyewithana\". Это необходимо, поскольку эта строка, скорее всего, является недействительным значением или артефактом, который может нарушить дальнейший анализ.\n",
        "\n",
        "Масштабирование признаков:\n",
        "\n",
        "Строка scaler = StandardScaler() создает объект класса StandardScaler из библиотеки scikit-learn. Стандартное масштабирование - это метод предварительной обработки данных, который центрирует и масштабирует признаки, чтобы они имели среднее значение 0 и стандартное отклонение 1.\n",
        "\n",
        "Строка scaled_data = scaler.fit_transform(data.drop(\"Quality\", axis=1)) применяет стандартное масштабирование ко всем столбцам в датафрейме data, за исключением столбца \"Quality\". Столбец \"Quality\" обычно является целевой переменной в задачах обучения с учителем, поэтому его не следует масштабировать."
      ],
      "metadata": {
        "id": "L6_AzRlNk9nE"
      }
    },
    {
      "cell_type": "code",
      "source": [
        "from sklearn.preprocessing import StandardScaler\n",
        "\n",
        "data = data[data[\"Acidity\"] != \"Created_by_Nidula_Elgiriyewithana\"]\n",
        "\n",
        "scaler = StandardScaler()\n",
        "scaled_data = scaler.fit_transform(data.drop(\"Quality\", axis=1))"
      ],
      "metadata": {
        "id": "0JfjBdwO0i5B"
      },
      "execution_count": null,
      "outputs": []
    },
    {
      "cell_type": "markdown",
      "source": [
        "Создание диапазона значений гипперпараметра:\n",
        "\n",
        "Строка C_values = np.logspace(0, 4, 10) использует функцию np.logspace из библиотеки NumPy для создания последовательности логарифмически равноудаленных значений гипперпараметра C. Гиперпараметры - это параметры, которые контролируют работу модели машинного обучения и обычно устанавливаются до процесса обучения. В данном случае C является гипперпараметром модели классификации, известной как метод опорных векторов (SVM).\n",
        "\n",
        "В частности, эта команда создает последовательность из 10 значений C, которые экспоненциально увеличиваются от 10^0 до 10^4. Логарифмическое разбиение часто используется при настройке гипперпараметров, поскольку оно обеспечивает более плотное покрытие значений в областях с более низкими значениями и более разреженное покрытие в областях с более высокими значениями."
      ],
      "metadata": {
        "id": "OHS8FyU1lCzs"
      }
    },
    {
      "cell_type": "code",
      "source": [
        "C_values = np.logspace(0, 4, 10)  # Значения гипперпараметра C"
      ],
      "metadata": {
        "id": "_eEPkSTI07Ay"
      },
      "execution_count": null,
      "outputs": []
    },
    {
      "cell_type": "markdown",
      "source": [
        "Настройка и оценка модели машинного обучения:\n",
        "\n",
        "В цикле for код последовательно выполняет следующие шаги для каждого значения C в последовательности C_values:\n",
        "\n",
        "Создается экземпляр модели логистической регрессии с заданным значением гипперпараметра C.\n",
        "\n",
        "Модель обучается на масштабированных данных scaled_data с целевой переменной data[\"Quality\"].\n",
        "\n",
        "Значение AUC-ROC вычисляется на основе прогнозов модели и добавляется в список roc_auc_scores. AUC-ROC (площадь под кривой приемник-рабочая характеристика) является мерой эффективности модели классификации."
      ],
      "metadata": {
        "id": "uJY3uooflP6d"
      }
    },
    {
      "cell_type": "code",
      "source": [
        "from sklearn.linear_model import LogisticRegression\n",
        "from sklearn.metrics import roc_auc_score\n",
        "\n",
        "roc_auc_scores = []  # Список значений AUC для разных значений C\n",
        "\n",
        "for C in C_values:\n",
        "    model = LogisticRegression(C=C, max_iter=1000)\n",
        "    model.fit(scaled_data, data[\"Quality\"])\n",
        "    roc_auc_scores.append(roc_auc_score(data[\"Quality\"], model.predict_proba(scaled_data)[:, 1]))"
      ],
      "metadata": {
        "id": "KpJQ3hE708_G"
      },
      "execution_count": null,
      "outputs": []
    },
    {
      "cell_type": "markdown",
      "source": [
        "Выполняет следующие действия, связанные с анализом данных и визуализацией:\n",
        "\n",
        "Создание графика:\n",
        "\n",
        "Строка plt.plot(C_values, roc_auc_scores) создает график, в котором значения C используются в качестве значений по оси x, а значения AUC - в качестве значений по оси y.\n",
        "\n",
        "Настройка графика:\n",
        "\n",
        "Строка plt.xlabel(\"Гиперпараметр C\") добавляет метку к оси x с текстом \"Гиперпараметр C\".\n",
        "\n",
        "Строка plt.ylabel(\"AUC\") добавляет метку к оси y с текстом \"AUC\".\n",
        "\n",
        "Строка plt.title(\"График AUC-C\") добавляет заголовок к графику с текстом \"График AUC-C\".\n",
        "\n",
        "Отображение графика:\n",
        "\n",
        "Строка plt.show() отображает созданный график в окне.\n"
      ],
      "metadata": {
        "id": "GZuPXbmOlld9"
      }
    },
    {
      "cell_type": "code",
      "source": [
        "import matplotlib.pyplot as plt\n",
        "\n",
        "plt.plot(C_values, roc_auc_scores)\n",
        "plt.xlabel(\"Гиперпараметр C\")\n",
        "plt.ylabel(\"AUC\")\n",
        "plt.title(\"График AUC-C\")\n",
        "plt.show()"
      ],
      "metadata": {
        "colab": {
          "base_uri": "https://localhost:8080/",
          "height": 472
        },
        "id": "971I7vfs1Nou",
        "outputId": "3511cfa7-59b7-4bcc-9e07-7c4b972567c5"
      },
      "execution_count": null,
      "outputs": [
        {
          "output_type": "display_data",
          "data": {
            "text/plain": [
              "<Figure size 640x480 with 1 Axes>"
            ],
            "image/png": "[encoded data removed]"
          },
          "metadata": {}
        }
      ]
    },
    {
      "cell_type": "markdown",
      "source": [
        "Выбор оптимального значения C:\n",
        "\n",
        "Строка optimal_C = C_values[np.argmax(roc_auc_scores)] находит индекс значения с наибольшим значением AUC в списке roc_auc_scores. Затем она использует этот индекс для извлечения соответствующего значения C из списка C_values. Это значение C является оптимальным значением, которое дает наилучшую производительность модели логистической регрессии на данном наборе данных.\n",
        "\n",
        "Печать результата:\n",
        "\n",
        "Строка print(f\"Оптимальное значение C: {optimal_C}\") выводит оптимальное значение C в консоль, используя форматированную строку f-string."
      ],
      "metadata": {
        "id": "j_FDS3u3lxmk"
      }
    },
    {
      "cell_type": "code",
      "source": [
        "optimal_C = C_values[np.argmax(roc_auc_scores)]\n",
        "print(f\"Оптимальное значение C: {optimal_C}\")"
      ],
      "metadata": {
        "colab": {
          "base_uri": "https://localhost:8080/"
        },
        "id": "SDofB6T21QSu",
        "outputId": "94502301-d22a-46ec-a71a-960ed8eefcd9"
      },
      "execution_count": null,
      "outputs": [
        {
          "output_type": "stream",
          "name": "stdout",
          "text": [
            "Оптимальное значение C: 2.7825594022071245\n"
          ]
        }
      ]
    },
    {
      "cell_type": "markdown",
      "source": [
        "### **Вывод:**\n",
        "\n",
        "Исследовательский анализ данных:\n",
        "\n",
        "Рассчитывает статистические показатели данных и выводит их для получения общего представления о распределении данных.\n",
        "Считывает данные из файла CSV, исследует структуру данных и создает новые признаки.\n",
        "\n",
        "Предварительная обработка данных:\n",
        "\n",
        "Удаляет недействительные значения из данных.\n",
        "Масштабирует признаки данных для улучшения производительности модели.\n",
        "\n",
        "Настройка и оценка модели машинного обучения:\n",
        "\n",
        "Выполняет настройку гипперпараметров для модели логистической регрессии, изменяя значение C.\n",
        "Оценивает производительность модели для каждого значения C, используя AUC-ROC в качестве метрики.\n",
        "\n",
        "Визуализация и оптимизация:\n",
        "\n",
        "Визуализирует зависимость между значениями C и значениями AUC для понимания влияния C на производительность модели.\n",
        "Определяет оптимальное значение C, которое дает наилучшую производительность модели."
      ],
      "metadata": {
        "id": "YNqNUhV1mMBy"
      }
    },
    {
      "cell_type": "markdown",
      "source": [
        "\n",
        "\n",
        "### 1. Какая библиотека Python предназначена для управления наборами данных?\n",
        "\n",
        "**Pandas** — это библиотека Python, предназначенная для управления наборами данных. Она предоставляет удобные структуры данных и функции для работы с табличными данными.\n",
        "\n",
        "### 2. Какая стратегия является нежелательной при обработке пропусков в данных?\n",
        "\n",
        "**б) удаление строк, содержащих пропуски в данных;**  \n",
        "Удаление строк может привести к потере важной информации, особенно если пропусков много. Это может исказить результаты анализа и снизить качество модели.\n",
        "\n",
        "### 3. Обоснуйте ответ на следующую проблему предварительной обработки данных.\n",
        "\n",
        "Если переменная \\( y \\) является целевым признаком и представляет собой категориальный признак, то **OneHotEncoder** не требуется применять к целевому признаку. OneHotEncoding обычно используется для преобразования категориальных признаков в числовые форматы, чтобы их можно было использовать в моделях. Однако для целевого признака, который используется для обучения модели, достаточно оставить его как есть, так как многие алгоритмы могут работать с категориальными метками напрямую.\n",
        "\n",
        "### 4. Принцип разбиения набора данных на обучающую и тестовую выборку.\n",
        "\n",
        "Принцип разбиения данных заключается в том, что модель обучается на одной части данных (обучающей выборке) и тестируется на другой (тестовой выборке). Это позволяет оценить ее производительность на новых, невидимых данных.\n",
        "\n",
        "Наиболее оптимальное соотношение зависит от размера набора данных, но часто используется соотношение **80:20** или **75:25**. Из предложенных вариантов **25:75** является наиболее сбалансированным, так как оставляет достаточно данных для тестирования.\n",
        "\n",
        "### 5. Какой код лучше использовать при загрузке данных из csv-файла?\n",
        "\n",
        "**а) dataset = read_csv(“data.csv”)**  \n",
        "Этот код правильный, если используется библиотека Pandas. Другие варианты либо неверны, либо относятся к другим языкам программирования (например, R).\n"
      ],
      "metadata": {
        "id": "WbwRY8cz1jZ6"
      }
    }
  ]
}